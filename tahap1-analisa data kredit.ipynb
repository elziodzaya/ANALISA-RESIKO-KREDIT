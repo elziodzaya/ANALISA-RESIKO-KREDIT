{
 "cells": [
  {
   "cell_type": "markdown",
   "id": "72f4b00f",
   "metadata": {},
   "source": [
    "# Sistem Prediksi Tingkat Resiko Kredit Untuk Kelayakan Pemberian Kredit\n",
    "- dataset yang digunakan adalah data berasal dari OpenData Kaggle - https://www.kaggle.com/datasets/laotse/credit-risk-dataset\n",
    "- Dataset terdiri dari beberapa kolom, yang masing-masing berisi informasi penting tentang pemohon dan status pinjaman mereka.\n",
    "- Dataset ini digunakan untuk menganalisis dan memprediksi tingkat risiko kredit berdasarkan dari data historis pemohon pinjaman. Ini membantu dalam pengambilan keputusan oleh pemberi pinjaman untuk menentukan apakah pemohon layak mendapatkan pinjaman atau tidak.\n",
    "- Dataset ini dapat digunakan untuk analisis deskriptif untuk memahami karakteristik pemohon pinjaman yang baik dan yang buruk.\n",
    "- melakukan analisis berapa banyak pemohon yang memiliki status pinjaman yang lancar dengan pemohon yang berstatus pinjaman macet (yang gagal bayar).\n",
    "- Analisis yang mendalam dapat membantu lembaga keuangan dalam merancang produk pinjaman yang lebih baik, memahami profil risiko nasabah, dan mengoptimalkan keputusan pemberian pinjaman dengan melihat tingkat resiko kredit."
   ]
  },
  {
   "cell_type": "code",
   "execution_count": 1,
   "id": "e0e72fc1",
   "metadata": {},
   "outputs": [
    {
     "ename": "ModuleNotFoundError",
     "evalue": "No module named 'matplotlib'",
     "output_type": "error",
     "traceback": [
      "\u001b[1;31m---------------------------------------------------------------------------\u001b[0m",
      "\u001b[1;31mModuleNotFoundError\u001b[0m                       Traceback (most recent call last)",
      "Cell \u001b[1;32mIn[1], line 3\u001b[0m\n\u001b[0;32m      1\u001b[0m \u001b[38;5;28;01mimport\u001b[39;00m \u001b[38;5;21;01mpandas\u001b[39;00m \u001b[38;5;28;01mas\u001b[39;00m \u001b[38;5;21;01mpd\u001b[39;00m \u001b[38;5;66;03m# library untuk pengolahan dataset\u001b[39;00m\n\u001b[0;32m      2\u001b[0m \u001b[38;5;28;01mimport\u001b[39;00m \u001b[38;5;21;01mnumpy\u001b[39;00m \u001b[38;5;28;01mas\u001b[39;00m \u001b[38;5;21;01mnp\u001b[39;00m \u001b[38;5;66;03m# library untuk pengolahan dataset\u001b[39;00m\n\u001b[1;32m----> 3\u001b[0m \u001b[38;5;28;01mimport\u001b[39;00m \u001b[38;5;21;01mmatplotlib\u001b[39;00m\u001b[38;5;21;01m.\u001b[39;00m\u001b[38;5;21;01mpyplot\u001b[39;00m \u001b[38;5;28;01mas\u001b[39;00m \u001b[38;5;21;01mplt\u001b[39;00m\n\u001b[0;32m      4\u001b[0m \u001b[38;5;28;01mimport\u001b[39;00m \u001b[38;5;21;01mmatplotlib\u001b[39;00m\u001b[38;5;21;01m.\u001b[39;00m\u001b[38;5;21;01mticker\u001b[39;00m \u001b[38;5;28;01mas\u001b[39;00m \u001b[38;5;21;01mmtick\u001b[39;00m\n\u001b[0;32m      5\u001b[0m \u001b[38;5;28;01mimport\u001b[39;00m \u001b[38;5;21;01mmatplotlib\u001b[39;00m\u001b[38;5;21;01m.\u001b[39;00m\u001b[38;5;21;01mcolors\u001b[39;00m \u001b[38;5;28;01mas\u001b[39;00m \u001b[38;5;21;01mmcolors\u001b[39;00m\n",
      "\u001b[1;31mModuleNotFoundError\u001b[0m: No module named 'matplotlib'"
     ]
    }
   ],
   "source": [
    "import pandas as pd # library untuk pengolahan dataset\n",
    "import numpy as np # library untuk pengolahan dataset\n",
    "import matplotlib.pyplot as plt\n",
    "import matplotlib.ticker as mtick\n",
    "import matplotlib.colors as mcolors\n",
    "import seaborn as sns\n",
    "import warnings\n",
    "warnings.filterwarnings(\"ignore\")"
   ]
  },
  {
   "cell_type": "code",
   "execution_count": 2,
   "id": "23600288",
   "metadata": {},
   "outputs": [
    {
     "data": {
      "text/html": [
       "<div>\n",
       "<style scoped>\n",
       "    .dataframe tbody tr th:only-of-type {\n",
       "        vertical-align: middle;\n",
       "    }\n",
       "\n",
       "    .dataframe tbody tr th {\n",
       "        vertical-align: top;\n",
       "    }\n",
       "\n",
       "    .dataframe thead th {\n",
       "        text-align: right;\n",
       "    }\n",
       "</style>\n",
       "<table border=\"1\" class=\"dataframe\">\n",
       "  <thead>\n",
       "    <tr style=\"text-align: right;\">\n",
       "      <th></th>\n",
       "      <th>person_age</th>\n",
       "      <th>person_income</th>\n",
       "      <th>person_home_ownership</th>\n",
       "      <th>person_emp_length</th>\n",
       "      <th>loan_intent</th>\n",
       "      <th>loan_grade</th>\n",
       "      <th>loan_amnt</th>\n",
       "      <th>loan_int_rate</th>\n",
       "      <th>loan_status</th>\n",
       "      <th>loan_percent_income</th>\n",
       "      <th>cb_person_default_on_file</th>\n",
       "      <th>cb_person_cred_hist_length</th>\n",
       "    </tr>\n",
       "  </thead>\n",
       "  <tbody>\n",
       "    <tr>\n",
       "      <th>0</th>\n",
       "      <td>22</td>\n",
       "      <td>59000</td>\n",
       "      <td>RENT</td>\n",
       "      <td>123.0</td>\n",
       "      <td>PERSONAL</td>\n",
       "      <td>D</td>\n",
       "      <td>35000</td>\n",
       "      <td>16.02</td>\n",
       "      <td>1</td>\n",
       "      <td>0.59</td>\n",
       "      <td>Y</td>\n",
       "      <td>3</td>\n",
       "    </tr>\n",
       "    <tr>\n",
       "      <th>1</th>\n",
       "      <td>21</td>\n",
       "      <td>9600</td>\n",
       "      <td>OWN</td>\n",
       "      <td>5.0</td>\n",
       "      <td>EDUCATION</td>\n",
       "      <td>B</td>\n",
       "      <td>1000</td>\n",
       "      <td>11.14</td>\n",
       "      <td>0</td>\n",
       "      <td>0.10</td>\n",
       "      <td>N</td>\n",
       "      <td>2</td>\n",
       "    </tr>\n",
       "    <tr>\n",
       "      <th>2</th>\n",
       "      <td>25</td>\n",
       "      <td>9600</td>\n",
       "      <td>MORTGAGE</td>\n",
       "      <td>1.0</td>\n",
       "      <td>MEDICAL</td>\n",
       "      <td>C</td>\n",
       "      <td>5500</td>\n",
       "      <td>12.87</td>\n",
       "      <td>1</td>\n",
       "      <td>0.57</td>\n",
       "      <td>N</td>\n",
       "      <td>3</td>\n",
       "    </tr>\n",
       "    <tr>\n",
       "      <th>3</th>\n",
       "      <td>23</td>\n",
       "      <td>65500</td>\n",
       "      <td>RENT</td>\n",
       "      <td>4.0</td>\n",
       "      <td>MEDICAL</td>\n",
       "      <td>C</td>\n",
       "      <td>35000</td>\n",
       "      <td>15.23</td>\n",
       "      <td>1</td>\n",
       "      <td>0.53</td>\n",
       "      <td>N</td>\n",
       "      <td>2</td>\n",
       "    </tr>\n",
       "    <tr>\n",
       "      <th>4</th>\n",
       "      <td>24</td>\n",
       "      <td>54400</td>\n",
       "      <td>RENT</td>\n",
       "      <td>8.0</td>\n",
       "      <td>MEDICAL</td>\n",
       "      <td>C</td>\n",
       "      <td>35000</td>\n",
       "      <td>14.27</td>\n",
       "      <td>1</td>\n",
       "      <td>0.55</td>\n",
       "      <td>Y</td>\n",
       "      <td>4</td>\n",
       "    </tr>\n",
       "    <tr>\n",
       "      <th>...</th>\n",
       "      <td>...</td>\n",
       "      <td>...</td>\n",
       "      <td>...</td>\n",
       "      <td>...</td>\n",
       "      <td>...</td>\n",
       "      <td>...</td>\n",
       "      <td>...</td>\n",
       "      <td>...</td>\n",
       "      <td>...</td>\n",
       "      <td>...</td>\n",
       "      <td>...</td>\n",
       "      <td>...</td>\n",
       "    </tr>\n",
       "    <tr>\n",
       "      <th>32576</th>\n",
       "      <td>57</td>\n",
       "      <td>53000</td>\n",
       "      <td>MORTGAGE</td>\n",
       "      <td>1.0</td>\n",
       "      <td>PERSONAL</td>\n",
       "      <td>C</td>\n",
       "      <td>5800</td>\n",
       "      <td>13.16</td>\n",
       "      <td>0</td>\n",
       "      <td>0.11</td>\n",
       "      <td>N</td>\n",
       "      <td>30</td>\n",
       "    </tr>\n",
       "    <tr>\n",
       "      <th>32577</th>\n",
       "      <td>54</td>\n",
       "      <td>120000</td>\n",
       "      <td>MORTGAGE</td>\n",
       "      <td>4.0</td>\n",
       "      <td>PERSONAL</td>\n",
       "      <td>A</td>\n",
       "      <td>17625</td>\n",
       "      <td>7.49</td>\n",
       "      <td>0</td>\n",
       "      <td>0.15</td>\n",
       "      <td>N</td>\n",
       "      <td>19</td>\n",
       "    </tr>\n",
       "    <tr>\n",
       "      <th>32578</th>\n",
       "      <td>65</td>\n",
       "      <td>76000</td>\n",
       "      <td>RENT</td>\n",
       "      <td>3.0</td>\n",
       "      <td>HOMEIMPROVEMENT</td>\n",
       "      <td>B</td>\n",
       "      <td>35000</td>\n",
       "      <td>10.99</td>\n",
       "      <td>1</td>\n",
       "      <td>0.46</td>\n",
       "      <td>N</td>\n",
       "      <td>28</td>\n",
       "    </tr>\n",
       "    <tr>\n",
       "      <th>32579</th>\n",
       "      <td>56</td>\n",
       "      <td>150000</td>\n",
       "      <td>MORTGAGE</td>\n",
       "      <td>5.0</td>\n",
       "      <td>PERSONAL</td>\n",
       "      <td>B</td>\n",
       "      <td>15000</td>\n",
       "      <td>11.48</td>\n",
       "      <td>0</td>\n",
       "      <td>0.10</td>\n",
       "      <td>N</td>\n",
       "      <td>26</td>\n",
       "    </tr>\n",
       "    <tr>\n",
       "      <th>32580</th>\n",
       "      <td>66</td>\n",
       "      <td>42000</td>\n",
       "      <td>RENT</td>\n",
       "      <td>2.0</td>\n",
       "      <td>MEDICAL</td>\n",
       "      <td>B</td>\n",
       "      <td>6475</td>\n",
       "      <td>9.99</td>\n",
       "      <td>0</td>\n",
       "      <td>0.15</td>\n",
       "      <td>N</td>\n",
       "      <td>30</td>\n",
       "    </tr>\n",
       "  </tbody>\n",
       "</table>\n",
       "<p>32581 rows × 12 columns</p>\n",
       "</div>"
      ],
      "text/plain": [
       "       person_age  person_income person_home_ownership  person_emp_length  \\\n",
       "0              22          59000                  RENT              123.0   \n",
       "1              21           9600                   OWN                5.0   \n",
       "2              25           9600              MORTGAGE                1.0   \n",
       "3              23          65500                  RENT                4.0   \n",
       "4              24          54400                  RENT                8.0   \n",
       "...           ...            ...                   ...                ...   \n",
       "32576          57          53000              MORTGAGE                1.0   \n",
       "32577          54         120000              MORTGAGE                4.0   \n",
       "32578          65          76000                  RENT                3.0   \n",
       "32579          56         150000              MORTGAGE                5.0   \n",
       "32580          66          42000                  RENT                2.0   \n",
       "\n",
       "           loan_intent loan_grade  loan_amnt  loan_int_rate  loan_status  \\\n",
       "0             PERSONAL          D      35000          16.02            1   \n",
       "1            EDUCATION          B       1000          11.14            0   \n",
       "2              MEDICAL          C       5500          12.87            1   \n",
       "3              MEDICAL          C      35000          15.23            1   \n",
       "4              MEDICAL          C      35000          14.27            1   \n",
       "...                ...        ...        ...            ...          ...   \n",
       "32576         PERSONAL          C       5800          13.16            0   \n",
       "32577         PERSONAL          A      17625           7.49            0   \n",
       "32578  HOMEIMPROVEMENT          B      35000          10.99            1   \n",
       "32579         PERSONAL          B      15000          11.48            0   \n",
       "32580          MEDICAL          B       6475           9.99            0   \n",
       "\n",
       "       loan_percent_income cb_person_default_on_file  \\\n",
       "0                     0.59                         Y   \n",
       "1                     0.10                         N   \n",
       "2                     0.57                         N   \n",
       "3                     0.53                         N   \n",
       "4                     0.55                         Y   \n",
       "...                    ...                       ...   \n",
       "32576                 0.11                         N   \n",
       "32577                 0.15                         N   \n",
       "32578                 0.46                         N   \n",
       "32579                 0.10                         N   \n",
       "32580                 0.15                         N   \n",
       "\n",
       "       cb_person_cred_hist_length  \n",
       "0                               3  \n",
       "1                               2  \n",
       "2                               3  \n",
       "3                               2  \n",
       "4                               4  \n",
       "...                           ...  \n",
       "32576                          30  \n",
       "32577                          19  \n",
       "32578                          28  \n",
       "32579                          26  \n",
       "32580                          30  \n",
       "\n",
       "[32581 rows x 12 columns]"
      ]
     },
     "execution_count": 2,
     "metadata": {},
     "output_type": "execute_result"
    }
   ],
   "source": [
    "x=pd.read_csv('./simpandata/credit_risk.csv')\n",
    "x"
   ]
  },
  {
   "cell_type": "code",
   "execution_count": 3,
   "id": "45f87b18",
   "metadata": {},
   "outputs": [
    {
     "name": "stdout",
     "output_type": "stream",
     "text": [
      "<class 'pandas.core.frame.DataFrame'>\n",
      "RangeIndex: 32581 entries, 0 to 32580\n",
      "Data columns (total 12 columns):\n",
      " #   Column                      Non-Null Count  Dtype  \n",
      "---  ------                      --------------  -----  \n",
      " 0   person_age                  32581 non-null  int64  \n",
      " 1   person_income               32581 non-null  int64  \n",
      " 2   person_home_ownership       32581 non-null  object \n",
      " 3   person_emp_length           31686 non-null  float64\n",
      " 4   loan_intent                 32581 non-null  object \n",
      " 5   loan_grade                  32581 non-null  object \n",
      " 6   loan_amnt                   32581 non-null  int64  \n",
      " 7   loan_int_rate               29465 non-null  float64\n",
      " 8   loan_status                 32581 non-null  int64  \n",
      " 9   loan_percent_income         32581 non-null  float64\n",
      " 10  cb_person_default_on_file   32581 non-null  object \n",
      " 11  cb_person_cred_hist_length  32581 non-null  int64  \n",
      "dtypes: float64(3), int64(5), object(4)\n",
      "memory usage: 3.0+ MB\n"
     ]
    }
   ],
   "source": [
    "x.info()"
   ]
  },
  {
   "cell_type": "markdown",
   "id": "dd01f190",
   "metadata": {},
   "source": [
    "## Data set ini memiliki dimensi data sebesar 32581 baris data dengan 12 kolom, yang terdiri dari kolom\n",
    "Berikut adalah perbaikan informasi yang Anda berikan, dengan penjelasan lebih detail untuk setiap kolom:\n",
    "\n",
    "1. **person_age (Usia Pemohon)**  \n",
    "   Memiliki **32,581** baris data dengan tipe data **int64** (numerik).  \n",
    "   Menunjukkan usia dari pemohon pinjaman.\n",
    "\n",
    "2. **person_income (Pendapatan Pemohon)**  \n",
    "   Memiliki **32,581** baris data dengan tipe data **int64** (numerik).  \n",
    "   Menunjukkan pendapatan tahunan pemohon.\n",
    "\n",
    "3. **person_home_ownership (Status Kepemilikan Rumah)**  \n",
    "   Memiliki **32,581** baris data dengan tipe data **object** (kategorikal).  \n",
    "   Menunjukkan status kepemilikan rumah pemohon (misalnya, memiliki, menyewa, atau gratis).\n",
    "\n",
    "4. **person_emp_length (Lama Bekerja Pemohon)**  \n",
    "   Memiliki **31,686** baris data dengan tipe data **float64** (numerik).  \n",
    "   Menunjukkan lama pemohon bekerja dalam tahun, dengan data yang hilang untuk beberapa pemohon.\n",
    "\n",
    "5. **loan_intent (Tujuan Pinjaman)**  \n",
    "   Memiliki **32,581** baris data dengan tipe data **object** (kategorikal).  \n",
    "   Menunjukkan tujuan dari pinjaman (seperti pembiayaan pendidikan, membeli rumah, dsb.).\n",
    "\n",
    "6. **loan_grade (Kelas Pinjaman)**  \n",
    "   Memiliki **32,581** baris data dengan tipe data **object** (kategorikal).  \n",
    "   Menunjukkan peringkat atau kelas dari pinjaman berdasarkan risiko.\n",
    "\n",
    "7. **loan_amnt (Jumlah Pinjaman)**  \n",
    "   Memiliki **32,581** baris data dengan tipe data **int64** (numerik).  \n",
    "   Menunjukkan jumlah yang diminta oleh pemohon dalam pinjaman.\n",
    "\n",
    "8. **loan_int_rate (Tingkat Bunga Pinjaman)**  \n",
    "   Memiliki **29,465** baris data dengan tipe data **float64** (numerik).  \n",
    "   Menunjukkan tingkat bunga tahunan untuk pinjaman, dengan data yang hilang untuk beberapa pinjaman.\n",
    "\n",
    "9. **loan_status (Status Pinjaman)**  \n",
    "   Memiliki **32,581** baris data dengan tipe data **int64** (numerik).  \n",
    "   Menunjukkan status pinjaman (0=dilunasi(kredit lancar) dan 1=gagal bayar(kredit macet)).\n",
    "\n",
    "10. **loan_percent_income (Persentase Pendapatan terhadap Pinjaman)**  \n",
    "    Memiliki **32,581** baris data dengan tipe data **float64** (numerik).  \n",
    "    Menunjukkan persentase pendapatan pemohon yang digunakan untuk membayar pinjaman.\n",
    "\n",
    "11. **cb_person_default_on_file (Riwayat Default Pemohon)**  \n",
    "    Memiliki **32,581** baris data dengan tipe data **object** (kategorikal).  \n",
    "    Menunjukkan apakah pemohon memiliki riwayat gagal bayar atau default dalam catatan lembaga keuangan.\n",
    "\n",
    "12. **cb_person_cred_hist_length (Lama Riwayat Kredit Pemohon)**  \n",
    "    Memiliki **32,581** baris data dengan tipe data **int64** (numerik).  \n",
    "    Menunjukkan lama riwayat kredit pemohon dalam bulan.  "
   ]
  },
  {
   "cell_type": "markdown",
   "id": "4a767b9e",
   "metadata": {},
   "source": [
    "# STATISTIK DATASET RESIKO KREDIT"
   ]
  },
  {
   "cell_type": "code",
   "execution_count": 4,
   "id": "44f274ff",
   "metadata": {
    "scrolled": true
   },
   "outputs": [
    {
     "data": {
      "text/html": [
       "<div>\n",
       "<style scoped>\n",
       "    .dataframe tbody tr th:only-of-type {\n",
       "        vertical-align: middle;\n",
       "    }\n",
       "\n",
       "    .dataframe tbody tr th {\n",
       "        vertical-align: top;\n",
       "    }\n",
       "\n",
       "    .dataframe thead th {\n",
       "        text-align: right;\n",
       "    }\n",
       "</style>\n",
       "<table border=\"1\" class=\"dataframe\">\n",
       "  <thead>\n",
       "    <tr style=\"text-align: right;\">\n",
       "      <th></th>\n",
       "      <th>person_age</th>\n",
       "      <th>person_income</th>\n",
       "      <th>person_emp_length</th>\n",
       "      <th>loan_amnt</th>\n",
       "      <th>loan_int_rate</th>\n",
       "      <th>loan_status</th>\n",
       "      <th>loan_percent_income</th>\n",
       "      <th>cb_person_cred_hist_length</th>\n",
       "    </tr>\n",
       "  </thead>\n",
       "  <tbody>\n",
       "    <tr>\n",
       "      <th>count</th>\n",
       "      <td>32581.0</td>\n",
       "      <td>32581.0</td>\n",
       "      <td>31686.0</td>\n",
       "      <td>32581.0</td>\n",
       "      <td>29465.0</td>\n",
       "      <td>32581.0</td>\n",
       "      <td>32581.0</td>\n",
       "      <td>32581.0</td>\n",
       "    </tr>\n",
       "    <tr>\n",
       "      <th>mean</th>\n",
       "      <td>28.0</td>\n",
       "      <td>66075.0</td>\n",
       "      <td>5.0</td>\n",
       "      <td>9589.0</td>\n",
       "      <td>11.0</td>\n",
       "      <td>0.0</td>\n",
       "      <td>0.0</td>\n",
       "      <td>6.0</td>\n",
       "    </tr>\n",
       "    <tr>\n",
       "      <th>std</th>\n",
       "      <td>6.0</td>\n",
       "      <td>61983.0</td>\n",
       "      <td>4.0</td>\n",
       "      <td>6322.0</td>\n",
       "      <td>3.0</td>\n",
       "      <td>0.0</td>\n",
       "      <td>0.0</td>\n",
       "      <td>4.0</td>\n",
       "    </tr>\n",
       "    <tr>\n",
       "      <th>min</th>\n",
       "      <td>20.0</td>\n",
       "      <td>4000.0</td>\n",
       "      <td>0.0</td>\n",
       "      <td>500.0</td>\n",
       "      <td>5.0</td>\n",
       "      <td>0.0</td>\n",
       "      <td>0.0</td>\n",
       "      <td>2.0</td>\n",
       "    </tr>\n",
       "    <tr>\n",
       "      <th>25%</th>\n",
       "      <td>23.0</td>\n",
       "      <td>38500.0</td>\n",
       "      <td>2.0</td>\n",
       "      <td>5000.0</td>\n",
       "      <td>8.0</td>\n",
       "      <td>0.0</td>\n",
       "      <td>0.0</td>\n",
       "      <td>3.0</td>\n",
       "    </tr>\n",
       "    <tr>\n",
       "      <th>50%</th>\n",
       "      <td>26.0</td>\n",
       "      <td>55000.0</td>\n",
       "      <td>4.0</td>\n",
       "      <td>8000.0</td>\n",
       "      <td>11.0</td>\n",
       "      <td>0.0</td>\n",
       "      <td>0.0</td>\n",
       "      <td>4.0</td>\n",
       "    </tr>\n",
       "    <tr>\n",
       "      <th>75%</th>\n",
       "      <td>30.0</td>\n",
       "      <td>79200.0</td>\n",
       "      <td>7.0</td>\n",
       "      <td>12200.0</td>\n",
       "      <td>13.0</td>\n",
       "      <td>0.0</td>\n",
       "      <td>0.0</td>\n",
       "      <td>8.0</td>\n",
       "    </tr>\n",
       "    <tr>\n",
       "      <th>max</th>\n",
       "      <td>144.0</td>\n",
       "      <td>6000000.0</td>\n",
       "      <td>123.0</td>\n",
       "      <td>35000.0</td>\n",
       "      <td>23.0</td>\n",
       "      <td>1.0</td>\n",
       "      <td>1.0</td>\n",
       "      <td>30.0</td>\n",
       "    </tr>\n",
       "  </tbody>\n",
       "</table>\n",
       "</div>"
      ],
      "text/plain": [
       "       person_age  person_income  person_emp_length  loan_amnt  loan_int_rate  \\\n",
       "count     32581.0        32581.0            31686.0    32581.0        29465.0   \n",
       "mean         28.0        66075.0                5.0     9589.0           11.0   \n",
       "std           6.0        61983.0                4.0     6322.0            3.0   \n",
       "min          20.0         4000.0                0.0      500.0            5.0   \n",
       "25%          23.0        38500.0                2.0     5000.0            8.0   \n",
       "50%          26.0        55000.0                4.0     8000.0           11.0   \n",
       "75%          30.0        79200.0                7.0    12200.0           13.0   \n",
       "max         144.0      6000000.0              123.0    35000.0           23.0   \n",
       "\n",
       "       loan_status  loan_percent_income  cb_person_cred_hist_length  \n",
       "count      32581.0              32581.0                     32581.0  \n",
       "mean           0.0                  0.0                         6.0  \n",
       "std            0.0                  0.0                         4.0  \n",
       "min            0.0                  0.0                         2.0  \n",
       "25%            0.0                  0.0                         3.0  \n",
       "50%            0.0                  0.0                         4.0  \n",
       "75%            0.0                  0.0                         8.0  \n",
       "max            1.0                  1.0                        30.0  "
      ]
     },
     "execution_count": 4,
     "metadata": {},
     "output_type": "execute_result"
    }
   ],
   "source": [
    "x.describe().round()"
   ]
  },
  {
   "cell_type": "markdown",
   "id": "485f1755",
   "metadata": {},
   "source": [
    "# OUTPUT/CLASS DARI SISTEM PREDIKSI ADALAH LOAN STATUS (STATUS PINJAMAN\n",
    "## loan_status (Status Pinjaman)\n",
    "- Memiliki 32,581 baris data dengan tipe data int64 (numerik).\n",
    "- Menunjukkan status pinjaman (0=dilunasi(kredit lancar) dan 1=gagal bayar(kredit lancar))."
   ]
  },
  {
   "cell_type": "code",
   "execution_count": 5,
   "id": "9b1e1e50",
   "metadata": {},
   "outputs": [
    {
     "name": "stdout",
     "output_type": "stream",
     "text": [
      "2\n"
     ]
    },
    {
     "data": {
      "text/plain": [
       "array([1, 0], dtype=int64)"
      ]
     },
     "execution_count": 5,
     "metadata": {},
     "output_type": "execute_result"
    }
   ],
   "source": [
    "print(x['loan_status'].nunique())\n",
    "x['loan_status'].unique()"
   ]
  },
  {
   "cell_type": "code",
   "execution_count": 6,
   "id": "bd3264be",
   "metadata": {},
   "outputs": [
    {
     "name": "stdout",
     "output_type": "stream",
     "text": [
      "7108\n"
     ]
    }
   ],
   "source": [
    "count_loan_status_1 = x[x['loan_status'] == 1].shape[0]  \n",
    "print(count_loan_status_1)"
   ]
  },
  {
   "cell_type": "code",
   "execution_count": 7,
   "id": "400597a1",
   "metadata": {},
   "outputs": [
    {
     "data": {
      "text/html": [
       "<div>\n",
       "<style scoped>\n",
       "    .dataframe tbody tr th:only-of-type {\n",
       "        vertical-align: middle;\n",
       "    }\n",
       "\n",
       "    .dataframe tbody tr th {\n",
       "        vertical-align: top;\n",
       "    }\n",
       "\n",
       "    .dataframe thead th {\n",
       "        text-align: right;\n",
       "    }\n",
       "</style>\n",
       "<table border=\"1\" class=\"dataframe\">\n",
       "  <thead>\n",
       "    <tr style=\"text-align: right;\">\n",
       "      <th></th>\n",
       "      <th>person_age</th>\n",
       "      <th>person_income</th>\n",
       "      <th>person_home_ownership</th>\n",
       "      <th>person_emp_length</th>\n",
       "      <th>loan_intent</th>\n",
       "      <th>loan_grade</th>\n",
       "      <th>loan_amnt</th>\n",
       "      <th>loan_int_rate</th>\n",
       "      <th>loan_status</th>\n",
       "      <th>loan_percent_income</th>\n",
       "      <th>cb_person_default_on_file</th>\n",
       "      <th>cb_person_cred_hist_length</th>\n",
       "    </tr>\n",
       "  </thead>\n",
       "  <tbody>\n",
       "    <tr>\n",
       "      <th>1</th>\n",
       "      <td>21</td>\n",
       "      <td>9600</td>\n",
       "      <td>OWN</td>\n",
       "      <td>5.0</td>\n",
       "      <td>EDUCATION</td>\n",
       "      <td>B</td>\n",
       "      <td>1000</td>\n",
       "      <td>11.14</td>\n",
       "      <td>0</td>\n",
       "      <td>0.10</td>\n",
       "      <td>N</td>\n",
       "      <td>2</td>\n",
       "    </tr>\n",
       "    <tr>\n",
       "      <th>14</th>\n",
       "      <td>23</td>\n",
       "      <td>115000</td>\n",
       "      <td>RENT</td>\n",
       "      <td>2.0</td>\n",
       "      <td>EDUCATION</td>\n",
       "      <td>A</td>\n",
       "      <td>35000</td>\n",
       "      <td>7.90</td>\n",
       "      <td>0</td>\n",
       "      <td>0.30</td>\n",
       "      <td>N</td>\n",
       "      <td>4</td>\n",
       "    </tr>\n",
       "    <tr>\n",
       "      <th>15</th>\n",
       "      <td>23</td>\n",
       "      <td>500000</td>\n",
       "      <td>MORTGAGE</td>\n",
       "      <td>7.0</td>\n",
       "      <td>DEBTCONSOLIDATION</td>\n",
       "      <td>B</td>\n",
       "      <td>30000</td>\n",
       "      <td>10.65</td>\n",
       "      <td>0</td>\n",
       "      <td>0.06</td>\n",
       "      <td>N</td>\n",
       "      <td>3</td>\n",
       "    </tr>\n",
       "    <tr>\n",
       "      <th>16</th>\n",
       "      <td>23</td>\n",
       "      <td>120000</td>\n",
       "      <td>RENT</td>\n",
       "      <td>0.0</td>\n",
       "      <td>EDUCATION</td>\n",
       "      <td>A</td>\n",
       "      <td>35000</td>\n",
       "      <td>7.90</td>\n",
       "      <td>0</td>\n",
       "      <td>0.29</td>\n",
       "      <td>N</td>\n",
       "      <td>4</td>\n",
       "    </tr>\n",
       "    <tr>\n",
       "      <th>20</th>\n",
       "      <td>25</td>\n",
       "      <td>162500</td>\n",
       "      <td>RENT</td>\n",
       "      <td>2.0</td>\n",
       "      <td>VENTURE</td>\n",
       "      <td>A</td>\n",
       "      <td>35000</td>\n",
       "      <td>7.49</td>\n",
       "      <td>0</td>\n",
       "      <td>0.22</td>\n",
       "      <td>N</td>\n",
       "      <td>4</td>\n",
       "    </tr>\n",
       "    <tr>\n",
       "      <th>...</th>\n",
       "      <td>...</td>\n",
       "      <td>...</td>\n",
       "      <td>...</td>\n",
       "      <td>...</td>\n",
       "      <td>...</td>\n",
       "      <td>...</td>\n",
       "      <td>...</td>\n",
       "      <td>...</td>\n",
       "      <td>...</td>\n",
       "      <td>...</td>\n",
       "      <td>...</td>\n",
       "      <td>...</td>\n",
       "    </tr>\n",
       "    <tr>\n",
       "      <th>32575</th>\n",
       "      <td>52</td>\n",
       "      <td>64500</td>\n",
       "      <td>RENT</td>\n",
       "      <td>0.0</td>\n",
       "      <td>EDUCATION</td>\n",
       "      <td>B</td>\n",
       "      <td>5000</td>\n",
       "      <td>11.26</td>\n",
       "      <td>0</td>\n",
       "      <td>0.08</td>\n",
       "      <td>N</td>\n",
       "      <td>20</td>\n",
       "    </tr>\n",
       "    <tr>\n",
       "      <th>32576</th>\n",
       "      <td>57</td>\n",
       "      <td>53000</td>\n",
       "      <td>MORTGAGE</td>\n",
       "      <td>1.0</td>\n",
       "      <td>PERSONAL</td>\n",
       "      <td>C</td>\n",
       "      <td>5800</td>\n",
       "      <td>13.16</td>\n",
       "      <td>0</td>\n",
       "      <td>0.11</td>\n",
       "      <td>N</td>\n",
       "      <td>30</td>\n",
       "    </tr>\n",
       "    <tr>\n",
       "      <th>32577</th>\n",
       "      <td>54</td>\n",
       "      <td>120000</td>\n",
       "      <td>MORTGAGE</td>\n",
       "      <td>4.0</td>\n",
       "      <td>PERSONAL</td>\n",
       "      <td>A</td>\n",
       "      <td>17625</td>\n",
       "      <td>7.49</td>\n",
       "      <td>0</td>\n",
       "      <td>0.15</td>\n",
       "      <td>N</td>\n",
       "      <td>19</td>\n",
       "    </tr>\n",
       "    <tr>\n",
       "      <th>32579</th>\n",
       "      <td>56</td>\n",
       "      <td>150000</td>\n",
       "      <td>MORTGAGE</td>\n",
       "      <td>5.0</td>\n",
       "      <td>PERSONAL</td>\n",
       "      <td>B</td>\n",
       "      <td>15000</td>\n",
       "      <td>11.48</td>\n",
       "      <td>0</td>\n",
       "      <td>0.10</td>\n",
       "      <td>N</td>\n",
       "      <td>26</td>\n",
       "    </tr>\n",
       "    <tr>\n",
       "      <th>32580</th>\n",
       "      <td>66</td>\n",
       "      <td>42000</td>\n",
       "      <td>RENT</td>\n",
       "      <td>2.0</td>\n",
       "      <td>MEDICAL</td>\n",
       "      <td>B</td>\n",
       "      <td>6475</td>\n",
       "      <td>9.99</td>\n",
       "      <td>0</td>\n",
       "      <td>0.15</td>\n",
       "      <td>N</td>\n",
       "      <td>30</td>\n",
       "    </tr>\n",
       "  </tbody>\n",
       "</table>\n",
       "<p>25473 rows × 12 columns</p>\n",
       "</div>"
      ],
      "text/plain": [
       "       person_age  person_income person_home_ownership  person_emp_length  \\\n",
       "1              21           9600                   OWN                5.0   \n",
       "14             23         115000                  RENT                2.0   \n",
       "15             23         500000              MORTGAGE                7.0   \n",
       "16             23         120000                  RENT                0.0   \n",
       "20             25         162500                  RENT                2.0   \n",
       "...           ...            ...                   ...                ...   \n",
       "32575          52          64500                  RENT                0.0   \n",
       "32576          57          53000              MORTGAGE                1.0   \n",
       "32577          54         120000              MORTGAGE                4.0   \n",
       "32579          56         150000              MORTGAGE                5.0   \n",
       "32580          66          42000                  RENT                2.0   \n",
       "\n",
       "             loan_intent loan_grade  loan_amnt  loan_int_rate  loan_status  \\\n",
       "1              EDUCATION          B       1000          11.14            0   \n",
       "14             EDUCATION          A      35000           7.90            0   \n",
       "15     DEBTCONSOLIDATION          B      30000          10.65            0   \n",
       "16             EDUCATION          A      35000           7.90            0   \n",
       "20               VENTURE          A      35000           7.49            0   \n",
       "...                  ...        ...        ...            ...          ...   \n",
       "32575          EDUCATION          B       5000          11.26            0   \n",
       "32576           PERSONAL          C       5800          13.16            0   \n",
       "32577           PERSONAL          A      17625           7.49            0   \n",
       "32579           PERSONAL          B      15000          11.48            0   \n",
       "32580            MEDICAL          B       6475           9.99            0   \n",
       "\n",
       "       loan_percent_income cb_person_default_on_file  \\\n",
       "1                     0.10                         N   \n",
       "14                    0.30                         N   \n",
       "15                    0.06                         N   \n",
       "16                    0.29                         N   \n",
       "20                    0.22                         N   \n",
       "...                    ...                       ...   \n",
       "32575                 0.08                         N   \n",
       "32576                 0.11                         N   \n",
       "32577                 0.15                         N   \n",
       "32579                 0.10                         N   \n",
       "32580                 0.15                         N   \n",
       "\n",
       "       cb_person_cred_hist_length  \n",
       "1                               2  \n",
       "14                              4  \n",
       "15                              3  \n",
       "16                              4  \n",
       "20                              4  \n",
       "...                           ...  \n",
       "32575                          20  \n",
       "32576                          30  \n",
       "32577                          19  \n",
       "32579                          26  \n",
       "32580                          30  \n",
       "\n",
       "[25473 rows x 12 columns]"
      ]
     },
     "execution_count": 7,
     "metadata": {},
     "output_type": "execute_result"
    }
   ],
   "source": [
    "x[x['loan_status'] < 1]"
   ]
  },
  {
   "cell_type": "markdown",
   "id": "d59cbb5f",
   "metadata": {},
   "source": [
    "## kolom loan_status (Status Pinjaman)\n",
    "- Memiliki 2 kategori nilai data, yaitu:\n",
    "1. nilai 0 (dilunasi) sebanyak 25473 data\n",
    "2. nilai 1 (gagal bayar) sebanyak 7108 baris data"
   ]
  },
  {
   "cell_type": "markdown",
   "id": "a7243f68",
   "metadata": {},
   "source": [
    "## FEATURE/INPUT SISTEM PREDIKSI INI ADALAH\n",
    "1. **person_age (Usia Pemohon)**  \n",
    "2. **person_income (Pendapatan Pemohon)**  \n",
    "3. **person_home_ownership (Status Kepemilikan Rumah)**  \n",
    "4. **person_emp_length (Lama Bekerja Pemohon)**  \n",
    "5. **loan_intent (Tujuan Pinjaman)**  \n",
    "6. **loan_grade (Kelas Pinjaman)**  \n",
    "7. **loan_amnt (Jumlah Pinjaman)**  \n",
    "8. **loan_int_rate (Tingkat Bunga Pinjaman)**    \n",
    "9. **loan_percent_income (Persentase Pendapatan terhadap Pinjaman)**  \n",
    "10. **cb_person_default_on_file (Riwayat Default Pemohon)** \n",
    "11. **cb_person_cred_hist_length (Lama Riwayat Kredit Pemohon)**  "
   ]
  },
  {
   "cell_type": "markdown",
   "id": "d7a02377",
   "metadata": {},
   "source": [
    "# 1. person_age (Usia Pemohon)\n",
    "- Memiliki 32,581 baris data dengan tipe data int64 (numerik).\n",
    "- Menunjukkan usia dari pemohon pinjaman.\n",
    "## Lakukan analisa terkait dengan nilai minimal/maksimal, berapa banyak kelompok/kategori data (data unik) sertakan indikasi kemungkinan nilai outlier pada kolom ini"
   ]
  },
  {
   "cell_type": "code",
   "execution_count": 8,
   "id": "834337ef",
   "metadata": {},
   "outputs": [
    {
     "data": {
      "text/plain": [
       "count    32581.0\n",
       "mean        28.0\n",
       "std          6.0\n",
       "min         20.0\n",
       "25%         23.0\n",
       "50%         26.0\n",
       "75%         30.0\n",
       "max        144.0\n",
       "Name: person_age, dtype: float64"
      ]
     },
     "execution_count": 8,
     "metadata": {},
     "output_type": "execute_result"
    }
   ],
   "source": [
    "x['person_age'].describe().round()"
   ]
  },
  {
   "cell_type": "markdown",
   "id": "dcf00871",
   "metadata": {},
   "source": [
    "### Nilai minimal usia peminjam adalah 20 th, nilai maksimal 144 th (besar kemungkinan data outlier)"
   ]
  },
  {
   "cell_type": "code",
   "execution_count": 9,
   "id": "52ccc8e9",
   "metadata": {},
   "outputs": [
    {
     "name": "stdout",
     "output_type": "stream",
     "text": [
      "58\n"
     ]
    },
    {
     "data": {
      "text/plain": [
       "array([ 22,  21,  25,  23,  24,  26, 144, 123,  20,  32,  34,  29,  33,\n",
       "        28,  35,  31,  27,  30,  36,  40,  50,  45,  37,  39,  44,  43,\n",
       "        41,  46,  38,  47,  42,  48,  49,  58,  65,  51,  53,  66,  61,\n",
       "        54,  57,  59,  62,  60,  55,  52,  64,  70,  78,  69,  56,  73,\n",
       "        63,  94,  80,  84,  76,  67], dtype=int64)"
      ]
     },
     "execution_count": 9,
     "metadata": {},
     "output_type": "execute_result"
    }
   ],
   "source": [
    "print(x['person_age'] .nunique())\n",
    "x['person_age'].unique()"
   ]
  },
  {
   "cell_type": "markdown",
   "id": "21133de6",
   "metadata": {},
   "source": [
    "### Dari total 32,581 baris data, Terdapat sebanyak 58 kelompok/kategori data usia peminjam mulai dari 20 tahun sampai 144 tahun"
   ]
  },
  {
   "cell_type": "code",
   "execution_count": 10,
   "id": "d48af9c7",
   "metadata": {},
   "outputs": [
    {
     "data": {
      "text/html": [
       "<div>\n",
       "<style scoped>\n",
       "    .dataframe tbody tr th:only-of-type {\n",
       "        vertical-align: middle;\n",
       "    }\n",
       "\n",
       "    .dataframe tbody tr th {\n",
       "        vertical-align: top;\n",
       "    }\n",
       "\n",
       "    .dataframe thead th {\n",
       "        text-align: right;\n",
       "    }\n",
       "</style>\n",
       "<table border=\"1\" class=\"dataframe\">\n",
       "  <thead>\n",
       "    <tr style=\"text-align: right;\">\n",
       "      <th></th>\n",
       "      <th>person_age</th>\n",
       "      <th>person_income</th>\n",
       "      <th>person_home_ownership</th>\n",
       "      <th>person_emp_length</th>\n",
       "      <th>loan_intent</th>\n",
       "      <th>loan_grade</th>\n",
       "      <th>loan_amnt</th>\n",
       "      <th>loan_int_rate</th>\n",
       "      <th>loan_status</th>\n",
       "      <th>loan_percent_income</th>\n",
       "      <th>cb_person_default_on_file</th>\n",
       "      <th>cb_person_cred_hist_length</th>\n",
       "    </tr>\n",
       "  </thead>\n",
       "  <tbody>\n",
       "    <tr>\n",
       "      <th>81</th>\n",
       "      <td>144</td>\n",
       "      <td>250000</td>\n",
       "      <td>RENT</td>\n",
       "      <td>4.0</td>\n",
       "      <td>VENTURE</td>\n",
       "      <td>C</td>\n",
       "      <td>4800</td>\n",
       "      <td>13.57</td>\n",
       "      <td>0</td>\n",
       "      <td>0.02</td>\n",
       "      <td>N</td>\n",
       "      <td>3</td>\n",
       "    </tr>\n",
       "    <tr>\n",
       "      <th>183</th>\n",
       "      <td>144</td>\n",
       "      <td>200000</td>\n",
       "      <td>MORTGAGE</td>\n",
       "      <td>4.0</td>\n",
       "      <td>EDUCATION</td>\n",
       "      <td>B</td>\n",
       "      <td>6000</td>\n",
       "      <td>11.86</td>\n",
       "      <td>0</td>\n",
       "      <td>0.03</td>\n",
       "      <td>N</td>\n",
       "      <td>2</td>\n",
       "    </tr>\n",
       "    <tr>\n",
       "      <th>575</th>\n",
       "      <td>123</td>\n",
       "      <td>80004</td>\n",
       "      <td>RENT</td>\n",
       "      <td>2.0</td>\n",
       "      <td>EDUCATION</td>\n",
       "      <td>B</td>\n",
       "      <td>20400</td>\n",
       "      <td>10.25</td>\n",
       "      <td>0</td>\n",
       "      <td>0.25</td>\n",
       "      <td>N</td>\n",
       "      <td>3</td>\n",
       "    </tr>\n",
       "    <tr>\n",
       "      <th>747</th>\n",
       "      <td>123</td>\n",
       "      <td>78000</td>\n",
       "      <td>RENT</td>\n",
       "      <td>7.0</td>\n",
       "      <td>VENTURE</td>\n",
       "      <td>B</td>\n",
       "      <td>20000</td>\n",
       "      <td>NaN</td>\n",
       "      <td>0</td>\n",
       "      <td>0.26</td>\n",
       "      <td>N</td>\n",
       "      <td>4</td>\n",
       "    </tr>\n",
       "    <tr>\n",
       "      <th>32297</th>\n",
       "      <td>144</td>\n",
       "      <td>6000000</td>\n",
       "      <td>MORTGAGE</td>\n",
       "      <td>12.0</td>\n",
       "      <td>PERSONAL</td>\n",
       "      <td>C</td>\n",
       "      <td>5000</td>\n",
       "      <td>12.73</td>\n",
       "      <td>0</td>\n",
       "      <td>0.00</td>\n",
       "      <td>N</td>\n",
       "      <td>25</td>\n",
       "    </tr>\n",
       "    <tr>\n",
       "      <th>...</th>\n",
       "      <td>...</td>\n",
       "      <td>...</td>\n",
       "      <td>...</td>\n",
       "      <td>...</td>\n",
       "      <td>...</td>\n",
       "      <td>...</td>\n",
       "      <td>...</td>\n",
       "      <td>...</td>\n",
       "      <td>...</td>\n",
       "      <td>...</td>\n",
       "      <td>...</td>\n",
       "      <td>...</td>\n",
       "    </tr>\n",
       "    <tr>\n",
       "      <th>32552</th>\n",
       "      <td>65</td>\n",
       "      <td>45900</td>\n",
       "      <td>RENT</td>\n",
       "      <td>2.0</td>\n",
       "      <td>EDUCATION</td>\n",
       "      <td>C</td>\n",
       "      <td>10000</td>\n",
       "      <td>NaN</td>\n",
       "      <td>0</td>\n",
       "      <td>0.22</td>\n",
       "      <td>Y</td>\n",
       "      <td>19</td>\n",
       "    </tr>\n",
       "    <tr>\n",
       "      <th>32557</th>\n",
       "      <td>69</td>\n",
       "      <td>24000</td>\n",
       "      <td>RENT</td>\n",
       "      <td>3.0</td>\n",
       "      <td>MEDICAL</td>\n",
       "      <td>A</td>\n",
       "      <td>6000</td>\n",
       "      <td>6.62</td>\n",
       "      <td>0</td>\n",
       "      <td>0.25</td>\n",
       "      <td>N</td>\n",
       "      <td>23</td>\n",
       "    </tr>\n",
       "    <tr>\n",
       "      <th>32562</th>\n",
       "      <td>61</td>\n",
       "      <td>160000</td>\n",
       "      <td>MORTGAGE</td>\n",
       "      <td>30.0</td>\n",
       "      <td>PERSONAL</td>\n",
       "      <td>B</td>\n",
       "      <td>24000</td>\n",
       "      <td>10.38</td>\n",
       "      <td>0</td>\n",
       "      <td>0.15</td>\n",
       "      <td>N</td>\n",
       "      <td>21</td>\n",
       "    </tr>\n",
       "    <tr>\n",
       "      <th>32578</th>\n",
       "      <td>65</td>\n",
       "      <td>76000</td>\n",
       "      <td>RENT</td>\n",
       "      <td>3.0</td>\n",
       "      <td>HOMEIMPROVEMENT</td>\n",
       "      <td>B</td>\n",
       "      <td>35000</td>\n",
       "      <td>10.99</td>\n",
       "      <td>1</td>\n",
       "      <td>0.46</td>\n",
       "      <td>N</td>\n",
       "      <td>28</td>\n",
       "    </tr>\n",
       "    <tr>\n",
       "      <th>32580</th>\n",
       "      <td>66</td>\n",
       "      <td>42000</td>\n",
       "      <td>RENT</td>\n",
       "      <td>2.0</td>\n",
       "      <td>MEDICAL</td>\n",
       "      <td>B</td>\n",
       "      <td>6475</td>\n",
       "      <td>9.99</td>\n",
       "      <td>0</td>\n",
       "      <td>0.15</td>\n",
       "      <td>N</td>\n",
       "      <td>30</td>\n",
       "    </tr>\n",
       "  </tbody>\n",
       "</table>\n",
       "<p>70 rows × 12 columns</p>\n",
       "</div>"
      ],
      "text/plain": [
       "       person_age  person_income person_home_ownership  person_emp_length  \\\n",
       "81            144         250000                  RENT                4.0   \n",
       "183           144         200000              MORTGAGE                4.0   \n",
       "575           123          80004                  RENT                2.0   \n",
       "747           123          78000                  RENT                7.0   \n",
       "32297         144        6000000              MORTGAGE               12.0   \n",
       "...           ...            ...                   ...                ...   \n",
       "32552          65          45900                  RENT                2.0   \n",
       "32557          69          24000                  RENT                3.0   \n",
       "32562          61         160000              MORTGAGE               30.0   \n",
       "32578          65          76000                  RENT                3.0   \n",
       "32580          66          42000                  RENT                2.0   \n",
       "\n",
       "           loan_intent loan_grade  loan_amnt  loan_int_rate  loan_status  \\\n",
       "81             VENTURE          C       4800          13.57            0   \n",
       "183          EDUCATION          B       6000          11.86            0   \n",
       "575          EDUCATION          B      20400          10.25            0   \n",
       "747            VENTURE          B      20000            NaN            0   \n",
       "32297         PERSONAL          C       5000          12.73            0   \n",
       "...                ...        ...        ...            ...          ...   \n",
       "32552        EDUCATION          C      10000            NaN            0   \n",
       "32557          MEDICAL          A       6000           6.62            0   \n",
       "32562         PERSONAL          B      24000          10.38            0   \n",
       "32578  HOMEIMPROVEMENT          B      35000          10.99            1   \n",
       "32580          MEDICAL          B       6475           9.99            0   \n",
       "\n",
       "       loan_percent_income cb_person_default_on_file  \\\n",
       "81                    0.02                         N   \n",
       "183                   0.03                         N   \n",
       "575                   0.25                         N   \n",
       "747                   0.26                         N   \n",
       "32297                 0.00                         N   \n",
       "...                    ...                       ...   \n",
       "32552                 0.22                         Y   \n",
       "32557                 0.25                         N   \n",
       "32562                 0.15                         N   \n",
       "32578                 0.46                         N   \n",
       "32580                 0.15                         N   \n",
       "\n",
       "       cb_person_cred_hist_length  \n",
       "81                              3  \n",
       "183                             2  \n",
       "575                             3  \n",
       "747                             4  \n",
       "32297                          25  \n",
       "...                           ...  \n",
       "32552                          19  \n",
       "32557                          23  \n",
       "32562                          21  \n",
       "32578                          28  \n",
       "32580                          30  \n",
       "\n",
       "[70 rows x 12 columns]"
      ]
     },
     "execution_count": 10,
     "metadata": {},
     "output_type": "execute_result"
    }
   ],
   "source": [
    "x[x['person_age'] > 60]"
   ]
  },
  {
   "cell_type": "markdown",
   "id": "2e90248e",
   "metadata": {},
   "source": [
    "### Terdapat 70 baris data usia peminjam di atas 60 tahun (Indikasi Data Outlier)"
   ]
  },
  {
   "cell_type": "code",
   "execution_count": null,
   "id": "3a780c93",
   "metadata": {},
   "outputs": [],
   "source": []
  },
  {
   "cell_type": "markdown",
   "id": "64059db3",
   "metadata": {},
   "source": [
    "# 2. person_income (PENDAPATAN PEMOHON)\n",
    "- Memiliki 32,581 baris data dengan tipe data int64 (numerik).\n",
    "- Menunjukkan pendapatan dari pemohon pinjaman.\n",
    "## Lakukan analisa terkait dengan nilai minimal/maksimal, berapa banyak kelompok/kategori data (data unik) sertakan indikasi kemungkinan nilai outlier pada kolom ini"
   ]
  },
  {
   "cell_type": "code",
   "execution_count": 11,
   "id": "47264d0b",
   "metadata": {},
   "outputs": [
    {
     "data": {
      "text/plain": [
       "count      32581.0\n",
       "mean       66075.0\n",
       "std        61983.0\n",
       "min         4000.0\n",
       "25%        38500.0\n",
       "50%        55000.0\n",
       "75%        79200.0\n",
       "max      6000000.0\n",
       "Name: person_income, dtype: float64"
      ]
     },
     "execution_count": 11,
     "metadata": {},
     "output_type": "execute_result"
    }
   ],
   "source": [
    "x['person_income'].describe().round()"
   ]
  },
  {
   "cell_type": "markdown",
   "id": "7e8c7775",
   "metadata": {},
   "source": [
    "### Nilai minimal pendapatan peminjam adalah 4000 USD, nilai maksimal 6.000.000 USD"
   ]
  },
  {
   "cell_type": "code",
   "execution_count": 12,
   "id": "8bbe5595",
   "metadata": {},
   "outputs": [
    {
     "name": "stdout",
     "output_type": "stream",
     "text": [
      "4295\n"
     ]
    },
    {
     "data": {
      "text/plain": [
       "array([  59000,    9600,   65500, ...,  720000, 1900000,    4888],\n",
       "      dtype=int64)"
      ]
     },
     "execution_count": 12,
     "metadata": {},
     "output_type": "execute_result"
    }
   ],
   "source": [
    "print(x['person_income'].nunique())\n",
    "x['person_income'].unique()"
   ]
  },
  {
   "cell_type": "markdown",
   "id": "8ff76096",
   "metadata": {},
   "source": [
    "### Dari total 32,581 baris data, Terdapat sebanyak 4295 kelompok/kategori data pendapatan pemohon/peminjam"
   ]
  },
  {
   "cell_type": "code",
   "execution_count": 13,
   "id": "954a49fe",
   "metadata": {},
   "outputs": [
    {
     "name": "stdout",
     "output_type": "stream",
     "text": [
      "60000    1046\n",
      "30000     847\n",
      "50000     778\n",
      "40000     658\n",
      "45000     590\n",
      "75000     579\n",
      "48000     532\n",
      "65000     532\n",
      "70000     527\n",
      "42000     524\n",
      "Name: person_income, dtype: int64\n"
     ]
    }
   ],
   "source": [
    "# Menghitung frekuensi kemunculan  \n",
    "frekuensi = x['person_income'].value_counts()  \n",
    "\n",
    "# Menampilkan 10 terbanyak  \n",
    "frekuensi_terbanyak = frekuensi.head(10)  \n",
    "print(frekuensi_terbanyak)"
   ]
  },
  {
   "cell_type": "code",
   "execution_count": 14,
   "id": "0bab9dbe",
   "metadata": {},
   "outputs": [
    {
     "name": "stdout",
     "output_type": "stream",
     "text": [
      "47652    1\n",
      "55920    1\n",
      "38688    1\n",
      "33864    1\n",
      "50820    1\n",
      "63552    1\n",
      "20244    1\n",
      "98500    1\n",
      "61628    1\n",
      "30016    1\n",
      "Name: person_income, dtype: int64\n"
     ]
    }
   ],
   "source": [
    "# Menghitung frekuensi kemunculan  \n",
    "frekuensi = x['person_income'].value_counts()  \n",
    "\n",
    "# Menampilkan 10 terendah  \n",
    "frekuensi_terendah = frekuensi.nsmallest(10)  \n",
    "print(frekuensi_terendah)"
   ]
  },
  {
   "cell_type": "markdown",
   "id": "6fa3ba7e",
   "metadata": {},
   "source": [
    "### Dengan frekuensi kemunculan paling banyak person income adalah 60.000 USD, yaitu sebanyak 1046 baris data|"
   ]
  },
  {
   "cell_type": "markdown",
   "id": "7d0d76e9",
   "metadata": {},
   "source": [
    "# 3. person_home_ownership (Status Kepemilikan Rumah)\n",
    "Memiliki 32,581 baris data dengan tipe data object (kategorikal).\n",
    "Menunjukkan status kepemilikan rumah pemohon (misalnya, memiliki, menyewa, atau gratis).\n"
   ]
  },
  {
   "cell_type": "code",
   "execution_count": null,
   "id": "07b18606",
   "metadata": {},
   "outputs": [],
   "source": []
  },
  {
   "cell_type": "code",
   "execution_count": null,
   "id": "b4f439d9",
   "metadata": {},
   "outputs": [],
   "source": []
  },
  {
   "cell_type": "code",
   "execution_count": null,
   "id": "bd84fbe5",
   "metadata": {},
   "outputs": [],
   "source": []
  },
  {
   "cell_type": "markdown",
   "id": "1283c1fe",
   "metadata": {},
   "source": [
    "# 4. person_emp_length (Lama Bekerja Pemohon)\n",
    "Memiliki 31,686 baris data dengan tipe data float64 (numerik).\n",
    "Menunjukkan lama pemohon bekerja dalam tahun, dengan data yang hilang untuk beberapa pemohon."
   ]
  },
  {
   "cell_type": "code",
   "execution_count": 15,
   "id": "615b974d",
   "metadata": {},
   "outputs": [
    {
     "data": {
      "text/plain": [
       "count    31686.0\n",
       "mean         5.0\n",
       "std          4.0\n",
       "min          0.0\n",
       "25%          2.0\n",
       "50%          4.0\n",
       "75%          7.0\n",
       "max        123.0\n",
       "Name: person_emp_length, dtype: float64"
      ]
     },
     "execution_count": 15,
     "metadata": {},
     "output_type": "execute_result"
    }
   ],
   "source": [
    "x['person_emp_length'].describe().round()"
   ]
  },
  {
   "cell_type": "code",
   "execution_count": 16,
   "id": "67125163",
   "metadata": {},
   "outputs": [
    {
     "name": "stdout",
     "output_type": "stream",
     "text": [
      "36\n"
     ]
    },
    {
     "data": {
      "text/plain": [
       "array([123.,   5.,   1.,   4.,   8.,   2.,   6.,   7.,   0.,   9.,   3.,\n",
       "        10.,  nan,  11.,  18.,  12.,  17.,  14.,  16.,  13.,  19.,  15.,\n",
       "        20.,  22.,  21.,  24.,  23.,  26.,  25.,  27.,  28.,  31.,  41.,\n",
       "        34.,  29.,  38.,  30.])"
      ]
     },
     "execution_count": 16,
     "metadata": {},
     "output_type": "execute_result"
    }
   ],
   "source": [
    "print(x['person_emp_length'].nunique())\n",
    "x['person_emp_length'].unique()"
   ]
  },
  {
   "cell_type": "code",
   "execution_count": 17,
   "id": "51deffd4",
   "metadata": {},
   "outputs": [
    {
     "name": "stdout",
     "output_type": "stream",
     "text": [
      "0.0    4105\n",
      "2.0    3849\n",
      "3.0    3456\n",
      "5.0    2946\n",
      "1.0    2915\n",
      "4.0    2874\n",
      "6.0    2666\n",
      "7.0    2196\n",
      "8.0    1687\n",
      "9.0    1367\n",
      "Name: person_emp_length, dtype: int64\n"
     ]
    }
   ],
   "source": [
    "# Menghitung frekuensi kemunculan  \n",
    "frekuensi = x['person_emp_length'].value_counts()  \n",
    "\n",
    "# Menampilkan 10 terbanyak  \n",
    "frekuensi_terbanyak = frekuensi.head(10)  \n",
    "print(frekuensi_terbanyak)"
   ]
  },
  {
   "cell_type": "code",
   "execution_count": 18,
   "id": "02973f06",
   "metadata": {},
   "outputs": [
    {
     "data": {
      "text/html": [
       "<div>\n",
       "<style scoped>\n",
       "    .dataframe tbody tr th:only-of-type {\n",
       "        vertical-align: middle;\n",
       "    }\n",
       "\n",
       "    .dataframe tbody tr th {\n",
       "        vertical-align: top;\n",
       "    }\n",
       "\n",
       "    .dataframe thead th {\n",
       "        text-align: right;\n",
       "    }\n",
       "</style>\n",
       "<table border=\"1\" class=\"dataframe\">\n",
       "  <thead>\n",
       "    <tr style=\"text-align: right;\">\n",
       "      <th></th>\n",
       "      <th>person_age</th>\n",
       "      <th>person_income</th>\n",
       "      <th>person_home_ownership</th>\n",
       "      <th>person_emp_length</th>\n",
       "      <th>loan_intent</th>\n",
       "      <th>loan_grade</th>\n",
       "      <th>loan_amnt</th>\n",
       "      <th>loan_int_rate</th>\n",
       "      <th>loan_status</th>\n",
       "      <th>loan_percent_income</th>\n",
       "      <th>cb_person_default_on_file</th>\n",
       "      <th>cb_person_cred_hist_length</th>\n",
       "    </tr>\n",
       "  </thead>\n",
       "  <tbody>\n",
       "    <tr>\n",
       "      <th>0</th>\n",
       "      <td>22</td>\n",
       "      <td>59000</td>\n",
       "      <td>RENT</td>\n",
       "      <td>123.0</td>\n",
       "      <td>PERSONAL</td>\n",
       "      <td>D</td>\n",
       "      <td>35000</td>\n",
       "      <td>16.02</td>\n",
       "      <td>1</td>\n",
       "      <td>0.59</td>\n",
       "      <td>Y</td>\n",
       "      <td>3</td>\n",
       "    </tr>\n",
       "    <tr>\n",
       "      <th>210</th>\n",
       "      <td>21</td>\n",
       "      <td>192000</td>\n",
       "      <td>MORTGAGE</td>\n",
       "      <td>123.0</td>\n",
       "      <td>VENTURE</td>\n",
       "      <td>A</td>\n",
       "      <td>20000</td>\n",
       "      <td>6.54</td>\n",
       "      <td>0</td>\n",
       "      <td>0.10</td>\n",
       "      <td>N</td>\n",
       "      <td>4</td>\n",
       "    </tr>\n",
       "    <tr>\n",
       "      <th>32355</th>\n",
       "      <td>78</td>\n",
       "      <td>48000</td>\n",
       "      <td>RENT</td>\n",
       "      <td>41.0</td>\n",
       "      <td>MEDICAL</td>\n",
       "      <td>A</td>\n",
       "      <td>3000</td>\n",
       "      <td>7.51</td>\n",
       "      <td>0</td>\n",
       "      <td>0.06</td>\n",
       "      <td>N</td>\n",
       "      <td>25</td>\n",
       "    </tr>\n",
       "    <tr>\n",
       "      <th>32515</th>\n",
       "      <td>53</td>\n",
       "      <td>106000</td>\n",
       "      <td>MORTGAGE</td>\n",
       "      <td>38.0</td>\n",
       "      <td>PERSONAL</td>\n",
       "      <td>B</td>\n",
       "      <td>20000</td>\n",
       "      <td>9.88</td>\n",
       "      <td>0</td>\n",
       "      <td>0.19</td>\n",
       "      <td>N</td>\n",
       "      <td>23</td>\n",
       "    </tr>\n",
       "  </tbody>\n",
       "</table>\n",
       "</div>"
      ],
      "text/plain": [
       "       person_age  person_income person_home_ownership  person_emp_length  \\\n",
       "0              22          59000                  RENT              123.0   \n",
       "210            21         192000              MORTGAGE              123.0   \n",
       "32355          78          48000                  RENT               41.0   \n",
       "32515          53         106000              MORTGAGE               38.0   \n",
       "\n",
       "      loan_intent loan_grade  loan_amnt  loan_int_rate  loan_status  \\\n",
       "0        PERSONAL          D      35000          16.02            1   \n",
       "210       VENTURE          A      20000           6.54            0   \n",
       "32355     MEDICAL          A       3000           7.51            0   \n",
       "32515    PERSONAL          B      20000           9.88            0   \n",
       "\n",
       "       loan_percent_income cb_person_default_on_file  \\\n",
       "0                     0.59                         Y   \n",
       "210                   0.10                         N   \n",
       "32355                 0.06                         N   \n",
       "32515                 0.19                         N   \n",
       "\n",
       "       cb_person_cred_hist_length  \n",
       "0                               3  \n",
       "210                             4  \n",
       "32355                          25  \n",
       "32515                          23  "
      ]
     },
     "execution_count": 18,
     "metadata": {},
     "output_type": "execute_result"
    }
   ],
   "source": [
    "x[x['person_emp_length'] > 35]"
   ]
  },
  {
   "cell_type": "markdown",
   "id": "71a16981",
   "metadata": {},
   "source": [
    "# terdapat indikasi nilai outlier, karena lama bekerja diatas 35 tahun sebanyak 4 baris data"
   ]
  },
  {
   "cell_type": "markdown",
   "id": "49155011",
   "metadata": {},
   "source": [
    "# 5.loan_intent (Tujuan Pinjaman)\n",
    "- Memiliki 32,581 baris data dengan tipe data object (kategorikal).\n",
    "- Menunjukkan tujuan dari pinjaman (seperti pembiayaan pendidikan, membeli rumah, dsb.)"
   ]
  },
  {
   "cell_type": "code",
   "execution_count": 19,
   "id": "24ca5d1b",
   "metadata": {},
   "outputs": [
    {
     "name": "stdout",
     "output_type": "stream",
     "text": [
      "6\n"
     ]
    },
    {
     "data": {
      "text/plain": [
       "array(['PERSONAL', 'EDUCATION', 'MEDICAL', 'VENTURE', 'HOMEIMPROVEMENT',\n",
       "       'DEBTCONSOLIDATION'], dtype=object)"
      ]
     },
     "execution_count": 19,
     "metadata": {},
     "output_type": "execute_result"
    }
   ],
   "source": [
    "print(x['loan_intent'].nunique())\n",
    "x['loan_intent'].unique()"
   ]
  },
  {
   "cell_type": "code",
   "execution_count": 20,
   "id": "ac8f3cf4",
   "metadata": {},
   "outputs": [
    {
     "data": {
      "text/plain": [
       "count         32581\n",
       "unique            6\n",
       "top       EDUCATION\n",
       "freq           6453\n",
       "Name: loan_intent, dtype: object"
      ]
     },
     "execution_count": 20,
     "metadata": {},
     "output_type": "execute_result"
    }
   ],
   "source": [
    "x['loan_intent'].describe()"
   ]
  },
  {
   "cell_type": "markdown",
   "id": "9610f44a",
   "metadata": {},
   "source": [
    "### Terdapat 7 kategori tujuan peminjaman yaitu PERSONAL, EDUCATION, MEDICAL, VENTURE, HOMEIMPROVEMENT, & DEBTCONSOLIDATION, dengan frekuensi kemunculan terbanyak adalah tujuan EDUCATION(pendidikan) dengan 6453 baris data"
   ]
  },
  {
   "cell_type": "markdown",
   "id": "c2a09737",
   "metadata": {},
   "source": [
    "# 6. loan_grade (Kelas Pinjaman)\n",
    "- Memiliki 32,581 baris data dengan tipe data object (kategorikal).\n",
    "- Menunjukkan peringkat atau kelas dari pinjaman berdasarkan risiko."
   ]
  },
  {
   "cell_type": "code",
   "execution_count": 21,
   "id": "05169a37",
   "metadata": {},
   "outputs": [
    {
     "name": "stdout",
     "output_type": "stream",
     "text": [
      "7\n"
     ]
    },
    {
     "data": {
      "text/plain": [
       "array(['D', 'B', 'C', 'A', 'E', 'F', 'G'], dtype=object)"
      ]
     },
     "execution_count": 21,
     "metadata": {},
     "output_type": "execute_result"
    }
   ],
   "source": [
    "print(x['loan_grade'].nunique())\n",
    "x['loan_grade'].unique()"
   ]
  },
  {
   "cell_type": "code",
   "execution_count": 22,
   "id": "98ab88be",
   "metadata": {},
   "outputs": [
    {
     "data": {
      "text/plain": [
       "count     32581\n",
       "unique        7\n",
       "top           A\n",
       "freq      10777\n",
       "Name: loan_grade, dtype: object"
      ]
     },
     "execution_count": 22,
     "metadata": {},
     "output_type": "execute_result"
    }
   ],
   "source": [
    "x['loan_grade'].describe()"
   ]
  },
  {
   "cell_type": "markdown",
   "id": "3d0ba312",
   "metadata": {},
   "source": [
    "### Terdapat 7 kategori kelas peminjam yaitu kelas A,B,C,D,E,F & kelas G, dengan frekuensi kemunculan terbanyak adalah kelas A dengan 10777 baris data"
   ]
  },
  {
   "cell_type": "markdown",
   "id": "9d3fa2b5",
   "metadata": {},
   "source": [
    "# 7. loan_amnt (Jumlah Pinjaman)\n",
    "Memiliki 32,581 baris data dengan tipe data int64 (numerik).\n",
    "Menunjukkan jumlah yang diminta oleh pemohon dalam pinjaman."
   ]
  },
  {
   "cell_type": "code",
   "execution_count": null,
   "id": "87ab6b0e",
   "metadata": {},
   "outputs": [],
   "source": []
  },
  {
   "cell_type": "code",
   "execution_count": null,
   "id": "dcb1854f",
   "metadata": {},
   "outputs": [],
   "source": []
  },
  {
   "cell_type": "code",
   "execution_count": null,
   "id": "e1db93bd",
   "metadata": {},
   "outputs": [],
   "source": []
  },
  {
   "cell_type": "markdown",
   "id": "cb915c7d",
   "metadata": {},
   "source": [
    "# 8.loan_int_rate (Tingkat Bunga Pinjaman)\n",
    "Memiliki 29,465 baris data dengan tipe data float64 (numerik).\n",
    "Menunjukkan tingkat bunga tahunan untuk pinjaman, dengan data yang hilang untuk beberapa pinjaman."
   ]
  },
  {
   "cell_type": "code",
   "execution_count": null,
   "id": "58b4ea90",
   "metadata": {},
   "outputs": [],
   "source": []
  },
  {
   "cell_type": "code",
   "execution_count": null,
   "id": "c2d5720f",
   "metadata": {},
   "outputs": [],
   "source": []
  },
  {
   "cell_type": "markdown",
   "id": "59b7d850",
   "metadata": {},
   "source": [
    "# 9. loan_percent_income (Persentase Pendapatan terhadap Pinjaman)\n",
    "Memiliki 32,581 baris data dengan tipe data float64 (numerik).\n",
    "Menunjukkan persentase pendapatan pemohon yang digunakan untuk membayar pinjaman."
   ]
  },
  {
   "cell_type": "code",
   "execution_count": null,
   "id": "27687ffa",
   "metadata": {},
   "outputs": [],
   "source": []
  },
  {
   "cell_type": "code",
   "execution_count": null,
   "id": "75b43081",
   "metadata": {},
   "outputs": [],
   "source": []
  },
  {
   "cell_type": "markdown",
   "id": "70179979",
   "metadata": {},
   "source": [
    "# 10. cb_person_default_on_file (Riwayat Default Pemohon)\n",
    "Memiliki 32,581 baris data dengan tipe data object (kategorikal).\n",
    "Menunjukkan apakah pemohon memiliki riwayat gagal bayar atau default dalam catatan lembaga keuangan."
   ]
  },
  {
   "cell_type": "code",
   "execution_count": null,
   "id": "5664840f",
   "metadata": {},
   "outputs": [],
   "source": []
  },
  {
   "cell_type": "code",
   "execution_count": null,
   "id": "70335ce6",
   "metadata": {},
   "outputs": [],
   "source": []
  },
  {
   "cell_type": "markdown",
   "id": "050f5f7d",
   "metadata": {},
   "source": [
    "# 11.cb_person_cred_hist_length (Lama Riwayat Kredit Pemohon)\n",
    "Memiliki 32,581 baris data dengan tipe data int64 (numerik).\n",
    "Menunjukkan lama riwayat kredit pemohon dalam bulan."
   ]
  },
  {
   "cell_type": "markdown",
   "id": "fb8755b7",
   "metadata": {},
   "source": [
    "# PRE PROSESSING\n",
    "## DATA CLEANING"
   ]
  },
  {
   "cell_type": "markdown",
   "id": "5b8b907b",
   "metadata": {},
   "source": [
    "# CEK MISSING VALUE"
   ]
  },
  {
   "cell_type": "code",
   "execution_count": 23,
   "id": "17532c1b",
   "metadata": {},
   "outputs": [
    {
     "data": {
      "text/plain": [
       "person_age                       0\n",
       "person_income                    0\n",
       "person_home_ownership            0\n",
       "person_emp_length              895\n",
       "loan_intent                      0\n",
       "loan_grade                       0\n",
       "loan_amnt                        0\n",
       "loan_int_rate                 3116\n",
       "loan_status                      0\n",
       "loan_percent_income              0\n",
       "cb_person_default_on_file        0\n",
       "cb_person_cred_hist_length       0\n",
       "dtype: int64"
      ]
     },
     "execution_count": 23,
     "metadata": {},
     "output_type": "execute_result"
    }
   ],
   "source": [
    "# melakukan pengecekan nilai missing value\n",
    "pd.isna(x).sum()"
   ]
  },
  {
   "cell_type": "markdown",
   "id": "0cf7bd7e",
   "metadata": {},
   "source": [
    "## TERDAPAT NILAI MISSING VALUE PADA KOLOM/FEATURE\n",
    "1. person_emp_length sebanyak 895 baris data\n",
    "2. loan_int_rate sebanyak 3116 baris data"
   ]
  },
  {
   "cell_type": "markdown",
   "id": "dd6dba61",
   "metadata": {},
   "source": [
    "# Menangani Missing Value\n",
    "1. person_emp_length Missing Value dihapus karena jumlahnya sedikit (895=2,75% dari total keseluruhan data)\n",
    "2. loan_int_rate missing value digantikan dengan teknik mode (sebanyak 3116=9,55% dari total data)"
   ]
  },
  {
   "cell_type": "code",
   "execution_count": 24,
   "id": "f8d6cd18",
   "metadata": {},
   "outputs": [
    {
     "name": "stdout",
     "output_type": "stream",
     "text": [
      "person_age                    0\n",
      "person_income                 0\n",
      "person_home_ownership         0\n",
      "person_emp_length             0\n",
      "loan_intent                   0\n",
      "loan_grade                    0\n",
      "loan_amnt                     0\n",
      "loan_int_rate                 0\n",
      "loan_status                   0\n",
      "loan_percent_income           0\n",
      "cb_person_default_on_file     0\n",
      "cb_person_cred_hist_length    0\n",
      "dtype: int64\n"
     ]
    }
   ],
   "source": [
    "# Menghapus baris dengan missing value di person_emp_length  \n",
    "x.dropna(subset=['person_emp_length'], inplace=True)  \n",
    "\n",
    "# Mengisi missing value di loan_int_rate dengan nilai mode  \n",
    "mode_value = x['loan_int_rate'].mode()[0]  \n",
    "x['loan_int_rate'].fillna(mode_value, inplace=True)  \n",
    "\n",
    "# Cek jumlah missing values yang tersisa  \n",
    "missing_values = x.isnull().sum()  \n",
    "print(missing_values)"
   ]
  },
  {
   "cell_type": "markdown",
   "id": "ea6d6010",
   "metadata": {},
   "source": [
    "# CEK OUTLIER\n",
    "### Dari hasil analisa sebelumnya terdapat beberapa indikasi nilai outlier\n",
    "1. person_age terdapat 70 baris data usia peminjam di atas 60 tahun\n",
    "2. person_emp_length terdapat 4 baris data, dengan 35 tahun\n",
    "### Nilai outlier tersebut dihapus karena jumlahnya sedikit"
   ]
  },
  {
   "cell_type": "code",
   "execution_count": 25,
   "id": "123f9eb8",
   "metadata": {},
   "outputs": [
    {
     "name": "stdout",
     "output_type": "stream",
     "text": [
      "Jumlah baris setelah menghapus outlier: 30497\n"
     ]
    }
   ],
   "source": [
    "import scipy.stats as stats\n",
    "# Menghapus outlier di person_age (usia peminjam > 60)  \n",
    "x = x[x['person_age'] <= 60]  \n",
    "x = x[x['person_income'] <= 150000] \n",
    "#x=x[(np.abs(stats.zscore(x[\"person_income\"]))<= 200000)]\n",
    "\n",
    "\n",
    "# Menghapus outlier di person_emp_length (panjang pekerjaan > 35)  \n",
    "x = x[x['person_emp_length'] <= 35]  \n",
    "\n",
    "# Cek ukuran DataFrame setelah menghapus outlier  \n",
    "print(f'Jumlah baris setelah menghapus outlier: {len(x)}')"
   ]
  },
  {
   "cell_type": "markdown",
   "id": "18d73983",
   "metadata": {},
   "source": [
    "# CEK DATA DUPLIKAT"
   ]
  },
  {
   "cell_type": "code",
   "execution_count": 26,
   "id": "3ec16cf4",
   "metadata": {},
   "outputs": [
    {
     "data": {
      "text/plain": [
       "152"
      ]
     },
     "execution_count": 26,
     "metadata": {},
     "output_type": "execute_result"
    }
   ],
   "source": [
    "x.duplicated().sum()"
   ]
  },
  {
   "cell_type": "code",
   "execution_count": 27,
   "id": "c5bc0209",
   "metadata": {},
   "outputs": [
    {
     "name": "stdout",
     "output_type": "stream",
     "text": [
      "Jumlah baris setelah menghapus duplikat: 30345\n"
     ]
    }
   ],
   "source": [
    "# Menghapus data duplikat  \n",
    "x_clean = x.drop_duplicates()  \n",
    "\n",
    "# Menampilkan jumlah baris setelah menghapus duplikat  \n",
    "print(f'Jumlah baris setelah menghapus duplikat: {len(x_clean)}')"
   ]
  },
  {
   "cell_type": "code",
   "execution_count": 28,
   "id": "e84ba077",
   "metadata": {},
   "outputs": [
    {
     "data": {
      "text/html": [
       "<div>\n",
       "<style scoped>\n",
       "    .dataframe tbody tr th:only-of-type {\n",
       "        vertical-align: middle;\n",
       "    }\n",
       "\n",
       "    .dataframe tbody tr th {\n",
       "        vertical-align: top;\n",
       "    }\n",
       "\n",
       "    .dataframe thead th {\n",
       "        text-align: right;\n",
       "    }\n",
       "</style>\n",
       "<table border=\"1\" class=\"dataframe\">\n",
       "  <thead>\n",
       "    <tr style=\"text-align: right;\">\n",
       "      <th></th>\n",
       "      <th>person_age</th>\n",
       "      <th>person_income</th>\n",
       "      <th>person_home_ownership</th>\n",
       "      <th>person_emp_length</th>\n",
       "      <th>loan_intent</th>\n",
       "      <th>loan_grade</th>\n",
       "      <th>loan_amnt</th>\n",
       "      <th>loan_int_rate</th>\n",
       "      <th>loan_status</th>\n",
       "      <th>loan_percent_income</th>\n",
       "      <th>cb_person_default_on_file</th>\n",
       "      <th>cb_person_cred_hist_length</th>\n",
       "    </tr>\n",
       "  </thead>\n",
       "  <tbody>\n",
       "    <tr>\n",
       "      <th>1</th>\n",
       "      <td>21</td>\n",
       "      <td>9600</td>\n",
       "      <td>OWN</td>\n",
       "      <td>5.0</td>\n",
       "      <td>EDUCATION</td>\n",
       "      <td>B</td>\n",
       "      <td>1000</td>\n",
       "      <td>11.14</td>\n",
       "      <td>0</td>\n",
       "      <td>0.10</td>\n",
       "      <td>N</td>\n",
       "      <td>2</td>\n",
       "    </tr>\n",
       "    <tr>\n",
       "      <th>2</th>\n",
       "      <td>25</td>\n",
       "      <td>9600</td>\n",
       "      <td>MORTGAGE</td>\n",
       "      <td>1.0</td>\n",
       "      <td>MEDICAL</td>\n",
       "      <td>C</td>\n",
       "      <td>5500</td>\n",
       "      <td>12.87</td>\n",
       "      <td>1</td>\n",
       "      <td>0.57</td>\n",
       "      <td>N</td>\n",
       "      <td>3</td>\n",
       "    </tr>\n",
       "    <tr>\n",
       "      <th>3</th>\n",
       "      <td>23</td>\n",
       "      <td>65500</td>\n",
       "      <td>RENT</td>\n",
       "      <td>4.0</td>\n",
       "      <td>MEDICAL</td>\n",
       "      <td>C</td>\n",
       "      <td>35000</td>\n",
       "      <td>15.23</td>\n",
       "      <td>1</td>\n",
       "      <td>0.53</td>\n",
       "      <td>N</td>\n",
       "      <td>2</td>\n",
       "    </tr>\n",
       "    <tr>\n",
       "      <th>4</th>\n",
       "      <td>24</td>\n",
       "      <td>54400</td>\n",
       "      <td>RENT</td>\n",
       "      <td>8.0</td>\n",
       "      <td>MEDICAL</td>\n",
       "      <td>C</td>\n",
       "      <td>35000</td>\n",
       "      <td>14.27</td>\n",
       "      <td>1</td>\n",
       "      <td>0.55</td>\n",
       "      <td>Y</td>\n",
       "      <td>4</td>\n",
       "    </tr>\n",
       "    <tr>\n",
       "      <th>5</th>\n",
       "      <td>21</td>\n",
       "      <td>9900</td>\n",
       "      <td>OWN</td>\n",
       "      <td>2.0</td>\n",
       "      <td>VENTURE</td>\n",
       "      <td>A</td>\n",
       "      <td>2500</td>\n",
       "      <td>7.14</td>\n",
       "      <td>1</td>\n",
       "      <td>0.25</td>\n",
       "      <td>N</td>\n",
       "      <td>2</td>\n",
       "    </tr>\n",
       "    <tr>\n",
       "      <th>...</th>\n",
       "      <td>...</td>\n",
       "      <td>...</td>\n",
       "      <td>...</td>\n",
       "      <td>...</td>\n",
       "      <td>...</td>\n",
       "      <td>...</td>\n",
       "      <td>...</td>\n",
       "      <td>...</td>\n",
       "      <td>...</td>\n",
       "      <td>...</td>\n",
       "      <td>...</td>\n",
       "      <td>...</td>\n",
       "    </tr>\n",
       "    <tr>\n",
       "      <th>32574</th>\n",
       "      <td>52</td>\n",
       "      <td>65004</td>\n",
       "      <td>RENT</td>\n",
       "      <td>4.0</td>\n",
       "      <td>PERSONAL</td>\n",
       "      <td>D</td>\n",
       "      <td>20000</td>\n",
       "      <td>15.58</td>\n",
       "      <td>1</td>\n",
       "      <td>0.31</td>\n",
       "      <td>Y</td>\n",
       "      <td>19</td>\n",
       "    </tr>\n",
       "    <tr>\n",
       "      <th>32575</th>\n",
       "      <td>52</td>\n",
       "      <td>64500</td>\n",
       "      <td>RENT</td>\n",
       "      <td>0.0</td>\n",
       "      <td>EDUCATION</td>\n",
       "      <td>B</td>\n",
       "      <td>5000</td>\n",
       "      <td>11.26</td>\n",
       "      <td>0</td>\n",
       "      <td>0.08</td>\n",
       "      <td>N</td>\n",
       "      <td>20</td>\n",
       "    </tr>\n",
       "    <tr>\n",
       "      <th>32576</th>\n",
       "      <td>57</td>\n",
       "      <td>53000</td>\n",
       "      <td>MORTGAGE</td>\n",
       "      <td>1.0</td>\n",
       "      <td>PERSONAL</td>\n",
       "      <td>C</td>\n",
       "      <td>5800</td>\n",
       "      <td>13.16</td>\n",
       "      <td>0</td>\n",
       "      <td>0.11</td>\n",
       "      <td>N</td>\n",
       "      <td>30</td>\n",
       "    </tr>\n",
       "    <tr>\n",
       "      <th>32577</th>\n",
       "      <td>54</td>\n",
       "      <td>120000</td>\n",
       "      <td>MORTGAGE</td>\n",
       "      <td>4.0</td>\n",
       "      <td>PERSONAL</td>\n",
       "      <td>A</td>\n",
       "      <td>17625</td>\n",
       "      <td>7.49</td>\n",
       "      <td>0</td>\n",
       "      <td>0.15</td>\n",
       "      <td>N</td>\n",
       "      <td>19</td>\n",
       "    </tr>\n",
       "    <tr>\n",
       "      <th>32579</th>\n",
       "      <td>56</td>\n",
       "      <td>150000</td>\n",
       "      <td>MORTGAGE</td>\n",
       "      <td>5.0</td>\n",
       "      <td>PERSONAL</td>\n",
       "      <td>B</td>\n",
       "      <td>15000</td>\n",
       "      <td>11.48</td>\n",
       "      <td>0</td>\n",
       "      <td>0.10</td>\n",
       "      <td>N</td>\n",
       "      <td>26</td>\n",
       "    </tr>\n",
       "  </tbody>\n",
       "</table>\n",
       "<p>30345 rows × 12 columns</p>\n",
       "</div>"
      ],
      "text/plain": [
       "       person_age  person_income person_home_ownership  person_emp_length  \\\n",
       "1              21           9600                   OWN                5.0   \n",
       "2              25           9600              MORTGAGE                1.0   \n",
       "3              23          65500                  RENT                4.0   \n",
       "4              24          54400                  RENT                8.0   \n",
       "5              21           9900                   OWN                2.0   \n",
       "...           ...            ...                   ...                ...   \n",
       "32574          52          65004                  RENT                4.0   \n",
       "32575          52          64500                  RENT                0.0   \n",
       "32576          57          53000              MORTGAGE                1.0   \n",
       "32577          54         120000              MORTGAGE                4.0   \n",
       "32579          56         150000              MORTGAGE                5.0   \n",
       "\n",
       "      loan_intent loan_grade  loan_amnt  loan_int_rate  loan_status  \\\n",
       "1       EDUCATION          B       1000          11.14            0   \n",
       "2         MEDICAL          C       5500          12.87            1   \n",
       "3         MEDICAL          C      35000          15.23            1   \n",
       "4         MEDICAL          C      35000          14.27            1   \n",
       "5         VENTURE          A       2500           7.14            1   \n",
       "...           ...        ...        ...            ...          ...   \n",
       "32574    PERSONAL          D      20000          15.58            1   \n",
       "32575   EDUCATION          B       5000          11.26            0   \n",
       "32576    PERSONAL          C       5800          13.16            0   \n",
       "32577    PERSONAL          A      17625           7.49            0   \n",
       "32579    PERSONAL          B      15000          11.48            0   \n",
       "\n",
       "       loan_percent_income cb_person_default_on_file  \\\n",
       "1                     0.10                         N   \n",
       "2                     0.57                         N   \n",
       "3                     0.53                         N   \n",
       "4                     0.55                         Y   \n",
       "5                     0.25                         N   \n",
       "...                    ...                       ...   \n",
       "32574                 0.31                         Y   \n",
       "32575                 0.08                         N   \n",
       "32576                 0.11                         N   \n",
       "32577                 0.15                         N   \n",
       "32579                 0.10                         N   \n",
       "\n",
       "       cb_person_cred_hist_length  \n",
       "1                               2  \n",
       "2                               3  \n",
       "3                               2  \n",
       "4                               4  \n",
       "5                               2  \n",
       "...                           ...  \n",
       "32574                          19  \n",
       "32575                          20  \n",
       "32576                          30  \n",
       "32577                          19  \n",
       "32579                          26  \n",
       "\n",
       "[30345 rows x 12 columns]"
      ]
     },
     "execution_count": 28,
     "metadata": {},
     "output_type": "execute_result"
    }
   ],
   "source": [
    "x_clean"
   ]
  },
  {
   "cell_type": "markdown",
   "id": "bb99d455",
   "metadata": {},
   "source": [
    "# SIMPAN DATA YANG TELAH DI BERSIHKAN"
   ]
  },
  {
   "cell_type": "code",
   "execution_count": 29,
   "id": "5c752692",
   "metadata": {},
   "outputs": [],
   "source": [
    "x_clean.to_csv('.\\simpandata\\credit_clean.csv',index=False)"
   ]
  },
  {
   "cell_type": "markdown",
   "id": "052b5d30",
   "metadata": {},
   "source": [
    "# HASIL ANALISA & EKSPLORASI DATA AWAL\n",
    "1. dari dataset ini dapat diketahui pola data dari nasabah dengan status pinjaman (loan_status) yang gagal bayar( kredit macet) dan nasabah yang lunas bayar (kredit lancar), berdasarkan dari 11 kolom feature/input yang ada didalam dataset tersebut.\n",
    "2. terdapat data yang missing value pada kolom feature/input person_emp_length Missing sebanyak 895 baris data atau 2,75% dari total keseluruhan data, dan juga pada kolom feature/input loan_int_rate missing sebanyak 3116 baris data atau 9,55% dari total data\n",
    "3. terdapat data outlier pada kolom feature/input person_age sebanyak 70 baris data usia peminjam di atas 60 tahun dan juga pada kolom feature/input person_emp_length sebanyak 4 baris data, dengan lama kerja diatas 35 tahun\n",
    "4. terdapat data duplikat sebanyak 157 baris data\n",
    "### Dari total 32581 data awal,  setelah di lakukan proses cleaning data hanya 30345 data yang digunakan"
   ]
  },
  {
   "cell_type": "markdown",
   "id": "4d0f6897",
   "metadata": {},
   "source": [
    "# CEK KORELASI DATA"
   ]
  },
  {
   "cell_type": "code",
   "execution_count": 30,
   "id": "85455663",
   "metadata": {},
   "outputs": [
    {
     "data": {
      "text/html": [
       "<div>\n",
       "<style scoped>\n",
       "    .dataframe tbody tr th:only-of-type {\n",
       "        vertical-align: middle;\n",
       "    }\n",
       "\n",
       "    .dataframe tbody tr th {\n",
       "        vertical-align: top;\n",
       "    }\n",
       "\n",
       "    .dataframe thead th {\n",
       "        text-align: right;\n",
       "    }\n",
       "</style>\n",
       "<table border=\"1\" class=\"dataframe\">\n",
       "  <thead>\n",
       "    <tr style=\"text-align: right;\">\n",
       "      <th></th>\n",
       "      <th>person_age</th>\n",
       "      <th>person_income</th>\n",
       "      <th>person_home_ownership</th>\n",
       "      <th>person_emp_length</th>\n",
       "      <th>loan_intent</th>\n",
       "      <th>loan_grade</th>\n",
       "      <th>loan_amnt</th>\n",
       "      <th>loan_int_rate</th>\n",
       "      <th>loan_status</th>\n",
       "      <th>loan_percent_income</th>\n",
       "      <th>cb_person_default_on_file</th>\n",
       "      <th>cb_person_cred_hist_length</th>\n",
       "    </tr>\n",
       "  </thead>\n",
       "  <tbody>\n",
       "    <tr>\n",
       "      <th>0</th>\n",
       "      <td>21</td>\n",
       "      <td>9600</td>\n",
       "      <td>OWN</td>\n",
       "      <td>5.0</td>\n",
       "      <td>EDUCATION</td>\n",
       "      <td>B</td>\n",
       "      <td>1000</td>\n",
       "      <td>11.14</td>\n",
       "      <td>0</td>\n",
       "      <td>0.10</td>\n",
       "      <td>N</td>\n",
       "      <td>2</td>\n",
       "    </tr>\n",
       "    <tr>\n",
       "      <th>1</th>\n",
       "      <td>25</td>\n",
       "      <td>9600</td>\n",
       "      <td>MORTGAGE</td>\n",
       "      <td>1.0</td>\n",
       "      <td>MEDICAL</td>\n",
       "      <td>C</td>\n",
       "      <td>5500</td>\n",
       "      <td>12.87</td>\n",
       "      <td>1</td>\n",
       "      <td>0.57</td>\n",
       "      <td>N</td>\n",
       "      <td>3</td>\n",
       "    </tr>\n",
       "    <tr>\n",
       "      <th>2</th>\n",
       "      <td>23</td>\n",
       "      <td>65500</td>\n",
       "      <td>RENT</td>\n",
       "      <td>4.0</td>\n",
       "      <td>MEDICAL</td>\n",
       "      <td>C</td>\n",
       "      <td>35000</td>\n",
       "      <td>15.23</td>\n",
       "      <td>1</td>\n",
       "      <td>0.53</td>\n",
       "      <td>N</td>\n",
       "      <td>2</td>\n",
       "    </tr>\n",
       "    <tr>\n",
       "      <th>3</th>\n",
       "      <td>24</td>\n",
       "      <td>54400</td>\n",
       "      <td>RENT</td>\n",
       "      <td>8.0</td>\n",
       "      <td>MEDICAL</td>\n",
       "      <td>C</td>\n",
       "      <td>35000</td>\n",
       "      <td>14.27</td>\n",
       "      <td>1</td>\n",
       "      <td>0.55</td>\n",
       "      <td>Y</td>\n",
       "      <td>4</td>\n",
       "    </tr>\n",
       "    <tr>\n",
       "      <th>4</th>\n",
       "      <td>21</td>\n",
       "      <td>9900</td>\n",
       "      <td>OWN</td>\n",
       "      <td>2.0</td>\n",
       "      <td>VENTURE</td>\n",
       "      <td>A</td>\n",
       "      <td>2500</td>\n",
       "      <td>7.14</td>\n",
       "      <td>1</td>\n",
       "      <td>0.25</td>\n",
       "      <td>N</td>\n",
       "      <td>2</td>\n",
       "    </tr>\n",
       "    <tr>\n",
       "      <th>...</th>\n",
       "      <td>...</td>\n",
       "      <td>...</td>\n",
       "      <td>...</td>\n",
       "      <td>...</td>\n",
       "      <td>...</td>\n",
       "      <td>...</td>\n",
       "      <td>...</td>\n",
       "      <td>...</td>\n",
       "      <td>...</td>\n",
       "      <td>...</td>\n",
       "      <td>...</td>\n",
       "      <td>...</td>\n",
       "    </tr>\n",
       "    <tr>\n",
       "      <th>30340</th>\n",
       "      <td>52</td>\n",
       "      <td>65004</td>\n",
       "      <td>RENT</td>\n",
       "      <td>4.0</td>\n",
       "      <td>PERSONAL</td>\n",
       "      <td>D</td>\n",
       "      <td>20000</td>\n",
       "      <td>15.58</td>\n",
       "      <td>1</td>\n",
       "      <td>0.31</td>\n",
       "      <td>Y</td>\n",
       "      <td>19</td>\n",
       "    </tr>\n",
       "    <tr>\n",
       "      <th>30341</th>\n",
       "      <td>52</td>\n",
       "      <td>64500</td>\n",
       "      <td>RENT</td>\n",
       "      <td>0.0</td>\n",
       "      <td>EDUCATION</td>\n",
       "      <td>B</td>\n",
       "      <td>5000</td>\n",
       "      <td>11.26</td>\n",
       "      <td>0</td>\n",
       "      <td>0.08</td>\n",
       "      <td>N</td>\n",
       "      <td>20</td>\n",
       "    </tr>\n",
       "    <tr>\n",
       "      <th>30342</th>\n",
       "      <td>57</td>\n",
       "      <td>53000</td>\n",
       "      <td>MORTGAGE</td>\n",
       "      <td>1.0</td>\n",
       "      <td>PERSONAL</td>\n",
       "      <td>C</td>\n",
       "      <td>5800</td>\n",
       "      <td>13.16</td>\n",
       "      <td>0</td>\n",
       "      <td>0.11</td>\n",
       "      <td>N</td>\n",
       "      <td>30</td>\n",
       "    </tr>\n",
       "    <tr>\n",
       "      <th>30343</th>\n",
       "      <td>54</td>\n",
       "      <td>120000</td>\n",
       "      <td>MORTGAGE</td>\n",
       "      <td>4.0</td>\n",
       "      <td>PERSONAL</td>\n",
       "      <td>A</td>\n",
       "      <td>17625</td>\n",
       "      <td>7.49</td>\n",
       "      <td>0</td>\n",
       "      <td>0.15</td>\n",
       "      <td>N</td>\n",
       "      <td>19</td>\n",
       "    </tr>\n",
       "    <tr>\n",
       "      <th>30344</th>\n",
       "      <td>56</td>\n",
       "      <td>150000</td>\n",
       "      <td>MORTGAGE</td>\n",
       "      <td>5.0</td>\n",
       "      <td>PERSONAL</td>\n",
       "      <td>B</td>\n",
       "      <td>15000</td>\n",
       "      <td>11.48</td>\n",
       "      <td>0</td>\n",
       "      <td>0.10</td>\n",
       "      <td>N</td>\n",
       "      <td>26</td>\n",
       "    </tr>\n",
       "  </tbody>\n",
       "</table>\n",
       "<p>30345 rows × 12 columns</p>\n",
       "</div>"
      ],
      "text/plain": [
       "       person_age  person_income person_home_ownership  person_emp_length  \\\n",
       "0              21           9600                   OWN                5.0   \n",
       "1              25           9600              MORTGAGE                1.0   \n",
       "2              23          65500                  RENT                4.0   \n",
       "3              24          54400                  RENT                8.0   \n",
       "4              21           9900                   OWN                2.0   \n",
       "...           ...            ...                   ...                ...   \n",
       "30340          52          65004                  RENT                4.0   \n",
       "30341          52          64500                  RENT                0.0   \n",
       "30342          57          53000              MORTGAGE                1.0   \n",
       "30343          54         120000              MORTGAGE                4.0   \n",
       "30344          56         150000              MORTGAGE                5.0   \n",
       "\n",
       "      loan_intent loan_grade  loan_amnt  loan_int_rate  loan_status  \\\n",
       "0       EDUCATION          B       1000          11.14            0   \n",
       "1         MEDICAL          C       5500          12.87            1   \n",
       "2         MEDICAL          C      35000          15.23            1   \n",
       "3         MEDICAL          C      35000          14.27            1   \n",
       "4         VENTURE          A       2500           7.14            1   \n",
       "...           ...        ...        ...            ...          ...   \n",
       "30340    PERSONAL          D      20000          15.58            1   \n",
       "30341   EDUCATION          B       5000          11.26            0   \n",
       "30342    PERSONAL          C       5800          13.16            0   \n",
       "30343    PERSONAL          A      17625           7.49            0   \n",
       "30344    PERSONAL          B      15000          11.48            0   \n",
       "\n",
       "       loan_percent_income cb_person_default_on_file  \\\n",
       "0                     0.10                         N   \n",
       "1                     0.57                         N   \n",
       "2                     0.53                         N   \n",
       "3                     0.55                         Y   \n",
       "4                     0.25                         N   \n",
       "...                    ...                       ...   \n",
       "30340                 0.31                         Y   \n",
       "30341                 0.08                         N   \n",
       "30342                 0.11                         N   \n",
       "30343                 0.15                         N   \n",
       "30344                 0.10                         N   \n",
       "\n",
       "       cb_person_cred_hist_length  \n",
       "0                               2  \n",
       "1                               3  \n",
       "2                               2  \n",
       "3                               4  \n",
       "4                               2  \n",
       "...                           ...  \n",
       "30340                          19  \n",
       "30341                          20  \n",
       "30342                          30  \n",
       "30343                          19  \n",
       "30344                          26  \n",
       "\n",
       "[30345 rows x 12 columns]"
      ]
     },
     "execution_count": 30,
     "metadata": {},
     "output_type": "execute_result"
    }
   ],
   "source": [
    "xdata=pd.read_csv('.\\simpandata\\credit_clean.csv')\n",
    "data=xdata\n",
    "data"
   ]
  },
  {
   "cell_type": "markdown",
   "id": "31275f83",
   "metadata": {},
   "source": [
    "## SEBELUM MENGECEK KORELASI ANTARA FEATURE/INPUT DENGAN CLASS/OUTPUT, PERLU DI LAKUKAN TRANSFORMASI/CASTING DATA PADA KOLOM FEATURE ATAUPUN CLASS YANG MEMILIKI TIPE DATA OBJECT"
   ]
  },
  {
   "cell_type": "code",
   "execution_count": 31,
   "id": "7f191133",
   "metadata": {},
   "outputs": [
    {
     "name": "stdout",
     "output_type": "stream",
     "text": [
      "Sebelum encoding: ['EDUCATION' 'MEDICAL' 'VENTURE' 'PERSONAL' 'HOMEIMPROVEMENT'\n",
      " 'DEBTCONSOLIDATION']\n",
      "Setelah encoding: [1 3 5 4 2 0]\n",
      "   loan_intent\n",
      "0            1\n",
      "1            3\n",
      "2            3\n",
      "3            3\n",
      "4            5\n"
     ]
    }
   ],
   "source": [
    "from sklearn.preprocessing import LabelEncoder  \n",
    "\n",
    "\n",
    "# Cek nilai unik sebelum encoding  \n",
    "print(f'Sebelum encoding: {data[\"loan_intent\"].unique()}')  \n",
    "\n",
    "# Inisialisasi LabelEncoder  \n",
    "label_encoder = LabelEncoder()  \n",
    "\n",
    "# Terapkan LabelEncoder dan simpan hasilnya langsung ke kolom 'loan_intent'  \n",
    "data['loan_intent'] = label_encoder.fit_transform(data['loan_intent'])  \n",
    "\n",
    "# Cek hasil encoding  \n",
    "print(f'Setelah encoding: {data[\"loan_intent\"].unique()}')  \n",
    "\n",
    "# Tampilkan DataFrame baru  \n",
    "print(data[['loan_intent']].head())\n"
   ]
  },
  {
   "cell_type": "code",
   "execution_count": 32,
   "id": "0fe96aa5",
   "metadata": {},
   "outputs": [
    {
     "name": "stdout",
     "output_type": "stream",
     "text": [
      "Sebelum encoding: ['B' 'C' 'A' 'D' 'E' 'F' 'G']\n",
      "Setelah encoding: [1 2 0 3 4 5 6]\n",
      "   loan_grade\n",
      "0           1\n",
      "1           2\n",
      "2           2\n",
      "3           2\n",
      "4           0\n"
     ]
    }
   ],
   "source": [
    "# Cek nilai unik sebelum encoding  \n",
    "print(f'Sebelum encoding: {data[\"loan_grade\"].unique()}')  \n",
    "\n",
    "# Inisialisasi LabelEncoder  \n",
    "label_encoder = LabelEncoder()  \n",
    "\n",
    "# Terapkan LabelEncoder dan simpan hasilnya langsung ke kolom 'loan_intent'  \n",
    "data['loan_grade'] = label_encoder.fit_transform(data['loan_grade'])  \n",
    "\n",
    "# Cek hasil encoding  \n",
    "print(f'Setelah encoding: {data[\"loan_grade\"].unique()}')  \n",
    "\n",
    "# Tampilkan DataFrame baru  \n",
    "print(data[['loan_grade']].head())"
   ]
  },
  {
   "cell_type": "code",
   "execution_count": 33,
   "id": "3150def2",
   "metadata": {},
   "outputs": [
    {
     "name": "stdout",
     "output_type": "stream",
     "text": [
      "Sebelum encoding: ['OWN' 'MORTGAGE' 'RENT' 'OTHER']\n",
      "Setelah encoding: [2 0 3 1]\n",
      "   person_home_ownership\n",
      "0                      2\n",
      "1                      0\n",
      "2                      3\n",
      "3                      3\n",
      "4                      2\n"
     ]
    }
   ],
   "source": [
    "# Cek nilai unik sebelum encoding  \n",
    "print(f'Sebelum encoding: {data[\"person_home_ownership\"].unique()}')  \n",
    "\n",
    "# Inisialisasi LabelEncoder  \n",
    "label_encoder = LabelEncoder()  \n",
    "\n",
    "# Terapkan LabelEncoder dan simpan hasilnya langsung ke kolom 'loan_intent'  \n",
    "data['person_home_ownership'] = label_encoder.fit_transform(data['person_home_ownership'])  \n",
    "\n",
    "# Cek hasil encoding  \n",
    "print(f'Setelah encoding: {data[\"person_home_ownership\"].unique()}')  \n",
    "\n",
    "# Tampilkan DataFrame baru  \n",
    "print(data[['person_home_ownership']].head())\n"
   ]
  },
  {
   "cell_type": "code",
   "execution_count": 34,
   "id": "0c9fbff5",
   "metadata": {},
   "outputs": [
    {
     "name": "stdout",
     "output_type": "stream",
     "text": [
      "Sebelum encoding: ['N' 'Y']\n",
      "Setelah encoding: [0 1]\n",
      "   cb_person_default_on_file\n",
      "0                          0\n",
      "1                          0\n",
      "2                          0\n",
      "3                          1\n",
      "4                          0\n"
     ]
    }
   ],
   "source": [
    "# Cek nilai unik sebelum encoding  \n",
    "print(f'Sebelum encoding: {data[\"cb_person_default_on_file\"].unique()}')  \n",
    "\n",
    "# Inisialisasi LabelEncoder  \n",
    "label_encoder = LabelEncoder()  \n",
    "\n",
    "# Terapkan LabelEncoder dan simpan hasilnya  \n",
    "data['cb_person_default_on_file'] = label_encoder.fit_transform(data['cb_person_default_on_file'])  \n",
    "\n",
    "# Cek hasil encoding  \n",
    "print(f'Setelah encoding: {data[\"cb_person_default_on_file\"].unique()}')  \n",
    "\n",
    "# Tampilkan DataFrame baru  \n",
    "print(data[['cb_person_default_on_file']].head())"
   ]
  },
  {
   "cell_type": "code",
   "execution_count": 35,
   "id": "4f15251f",
   "metadata": {},
   "outputs": [
    {
     "name": "stdout",
     "output_type": "stream",
     "text": [
      "<class 'pandas.core.frame.DataFrame'>\n",
      "RangeIndex: 30345 entries, 0 to 30344\n",
      "Data columns (total 12 columns):\n",
      " #   Column                      Non-Null Count  Dtype  \n",
      "---  ------                      --------------  -----  \n",
      " 0   person_age                  30345 non-null  int64  \n",
      " 1   person_income               30345 non-null  int64  \n",
      " 2   person_home_ownership       30345 non-null  int32  \n",
      " 3   person_emp_length           30345 non-null  float64\n",
      " 4   loan_intent                 30345 non-null  int32  \n",
      " 5   loan_grade                  30345 non-null  int32  \n",
      " 6   loan_amnt                   30345 non-null  int64  \n",
      " 7   loan_int_rate               30345 non-null  float64\n",
      " 8   loan_status                 30345 non-null  int64  \n",
      " 9   loan_percent_income         30345 non-null  float64\n",
      " 10  cb_person_default_on_file   30345 non-null  int32  \n",
      " 11  cb_person_cred_hist_length  30345 non-null  int64  \n",
      "dtypes: float64(3), int32(4), int64(5)\n",
      "memory usage: 2.3 MB\n"
     ]
    }
   ],
   "source": [
    "data.info()"
   ]
  },
  {
   "cell_type": "code",
   "execution_count": 36,
   "id": "08918b92",
   "metadata": {},
   "outputs": [
    {
     "name": "stdout",
     "output_type": "stream",
     "text": [
      "                            loan_status\n",
      "person_age                    -0.021313\n",
      "person_income                 -0.245391\n",
      "person_home_ownership          0.208407\n",
      "person_emp_length             -0.086691\n",
      "loan_intent                   -0.063296\n",
      "loan_grade                     0.377733\n",
      "loan_amnt                      0.127169\n",
      "loan_int_rate                  0.325100\n",
      "loan_status                    1.000000\n",
      "loan_percent_income            0.380609\n",
      "cb_person_default_on_file      0.181229\n",
      "cb_person_cred_hist_length    -0.016054\n"
     ]
    }
   ],
   "source": [
    "# Menampilkan korelasi positif dan negatif dengan kolom 'loan_status'  \n",
    "correlation = data.corr()[[\"loan_status\"]]  \n",
    "\n",
    "# Menampilkan nilai korelasi  \n",
    "print(correlation)"
   ]
  },
  {
   "cell_type": "code",
   "execution_count": 37,
   "id": "846b4f7c",
   "metadata": {},
   "outputs": [
    {
     "data": {
      "text/plain": [
       "<AxesSubplot: >"
      ]
     },
     "execution_count": 37,
     "metadata": {},
     "output_type": "execute_result"
    },
    {
     "data": {
      "image/png": "[encoded data removed]",
      "text/plain": [
       "<Figure size 1200x600 with 1 Axes>"
      ]
     },
     "metadata": {},
     "output_type": "display_data"
    }
   ],
   "source": [
    "# Visualisasi menggunakan grafik batang\n",
    "plt.figure(figsize=(12,6))\n",
    "data.corr()['loan_status'].sort_values(ascending = False).plot(kind='bar', color=['red', 'green', 'blue'])"
   ]
  },
  {
   "cell_type": "markdown",
   "id": "c5de1f35",
   "metadata": {},
   "source": [
    "# VISUALISASI DATA"
   ]
  },
  {
   "cell_type": "markdown",
   "id": "219d89cf",
   "metadata": {},
   "source": [
    "# 1. DISTRIBUSI DATA LOAN STATUS (STATUS PINJAMAN)- CLASS/OUTPUT"
   ]
  },
  {
   "cell_type": "code",
   "execution_count": 38,
   "id": "c53432f3",
   "metadata": {},
   "outputs": [
    {
     "data": {
      "image/png": "[encoded data removed]",
      "text/plain": [
       "<Figure size 500x500 with 1 Axes>"
      ]
     },
     "metadata": {},
     "output_type": "display_data"
    }
   ],
   "source": [
    "# Fungsi untuk menampilkan jumlah dan persentase  \n",
    "def func(pct, allvalues):  \n",
    "    absolute = int(np.round(pct / 100. * sum(allvalues)))  # Menghitung jumlah data  \n",
    "    return f'{absolute} \\n({pct:.1f}%)'  # Format tampilan  \n",
    "\n",
    "# Hitung frekuensi status pinjaman  \n",
    "loan_counts = data['loan_status'].value_counts()  \n",
    "\n",
    "# Buat diagram pie  \n",
    "ax = loan_counts.plot.pie(autopct=lambda pct: func(pct, loan_counts), labels=['0=Lancar', '1=Macet'], figsize=(5, 5), fontsize=12)  \n",
    "\n",
    "ax.yaxis.set_major_formatter(mtick.PercentFormatter())  \n",
    "ax.set_ylabel('Loan_Status', fontsize=12)  \n",
    "ax.set_title('% Loan_Status', fontsize=12)\n",
    "\n",
    "plt.savefig('./grafik/statuspinjaman.png')\n",
    "plt.show()  # Tampilkan plot"
   ]
  },
  {
   "cell_type": "markdown",
   "id": "bf3ce06a",
   "metadata": {},
   "source": [
    "### Dari total data sebanyak 30345 baris data, terdapat Nasabah/Peminjam dengan status 0=Kredit Lancar sebanyak 23665 baris data/78% dan untuk Nasabah/Peminjam dengan status 1= Kredit Macet sebanyak 6680 baris data/22% "
   ]
  },
  {
   "cell_type": "markdown",
   "id": "c0eb8dff",
   "metadata": {},
   "source": [
    "# 2. Distribusi Data Feature/Input"
   ]
  },
  {
   "cell_type": "markdown",
   "id": "c3a2a5c2",
   "metadata": {},
   "source": [
    "# a. Distribusi Data Feature/Input Person_Age (Usia Peminjam)"
   ]
  },
  {
   "cell_type": "code",
   "execution_count": 39,
   "id": "13a70eaa",
   "metadata": {},
   "outputs": [
    {
     "data": {
      "image/png": "[encoded data removed]",
      "text/plain": [
       "<Figure size 1000x600 with 1 Axes>"
      ]
     },
     "metadata": {},
     "output_type": "display_data"
    }
   ],
   "source": [
    "import matplotlib.pyplot as plt  \n",
    "import seaborn as sns  \n",
    "import matplotlib.ticker as mtick  \n",
    "import numpy as np  # Pastikan numpy di-import  \n",
    "\n",
    "# Mengatur ukuran gambar  \n",
    "plt.figure(figsize=(10, 6))  \n",
    "\n",
    "# Menghitung jumlah peminjam untuk histogram  \n",
    "sns.histplot(data['person_age'], bins=15, kde=True, color='blue', stat=\"percent\")  \n",
    "\n",
    "# Menambahkan label dan judul  \n",
    "plt.ylabel('% Peminjam Usia', fontsize=12)  \n",
    "plt.xlabel('Usia Peminjam', fontsize=12)  \n",
    "plt.title('Distribusi Usia Peminjam', fontsize=14)  \n",
    "plt.grid()\n",
    "# Mengatur format sumbu y  \n",
    "plt.gca().yaxis.set_major_formatter(mtick.PercentFormatter())  \n",
    "\n",
    "# Mengumpulkan data plot untuk menambahkan jumlah di atas histogram  \n",
    "counts, bins = np.histogram(data['person_age'], bins=14)  \n",
    "bin_centers = 0.5 * (bins[1:] + bins[:-1])  # Menghitung posisi untuk label  \n",
    "\n",
    "# Menambahkan label jumlah di atas batang  \n",
    "for count, center in zip(counts, bin_centers):  \n",
    "    plt.text(x=center, y=count / len(data) * 100,  # Menggunakan persentase untuk posisi  \n",
    "             s=f'{count}', ha='center', va='bottom', fontsize=10)  \n",
    "\n",
    "# Tampilkan plot  \n",
    "plt.savefig('./grafik/usia.png')\n",
    "plt.show()"
   ]
  },
  {
   "cell_type": "markdown",
   "id": "b9cb5c77",
   "metadata": {},
   "source": [
    "### Berdasakan grafik diatas:\n",
    "1. Histogram menunjukkan bahwa kelompok usia 23-25 tahun memiliki jumlah peminjam tertinggi dengan persentase sekitar 32% atau sebanyak 10,118 peminjam.\n",
    "2. Terdapat penurunan signifikan dalam jumlah peminjam saat usia bertambah, setiap kelompok usia setelah 25 tahun menunjukkan penurunan yang konsisten.\n",
    "3. Usia 30 dan 35 tahun juga memiliki angka yang cukup tinggi, tetapi jauh di bawah kelompok usia 25 tahun.\n",
    "4. Usia 50 dan lebih tinggi (50-60 tahun) menunjukkan penurunan drastis dalam jumlah peminjam, dengan angka di bawah 100, ini menunjukkan bahwa peminjam yang lebih tua (di atas 50 tahun) cenderung lebih sedikit mengambil pinjaman dibandingkan peminjam yang lebih muda.\n",
    "#### Histogram ini mencerminkan bahwa peminjam cenderung berasal dari usia yang lebih muda, dengan puncak yang signifikan pada usia 25 tahun.\n",
    "#### Ada kemungkinan bahwa faktor-faktor seperti kebutuhan finansial, stabilitas karir, dan tingkat pendapatan berkontribusi pada pola ini.\n",
    "#### Data ini menunjukkan bahwa program yang ditujukan untuk peminjam muda mungkin lebih diperlukan, sedangkan strategi yang lebih tepat bisa diterapkan untuk kelompok usia yang lebih tua yang cenderung lebih sedikit terlibat dalam pinjaman."
   ]
  },
  {
   "cell_type": "markdown",
   "id": "7ee8874e",
   "metadata": {},
   "source": [
    "# Distribusi person_age(Usia Peminjam) terhadap loan_status (Status Pinjaman)"
   ]
  },
  {
   "cell_type": "markdown",
   "id": "c79102a5",
   "metadata": {},
   "source": [
    "### Pada Grafik diatas mencerminkan pola peminjam berdasarkan usia dan mengungkapkan pentingnya faktor usia dalam status pinjaman. Data ini dapat digunakan oleh lembaga keuangan untuk memahami demografi peminjam dan menyesuaikan produk pinjaman mereka sesuai dengan kebutuhan kelompok umur yang berbeda.\n",
    "1. Puncak Pemohon di Usia Muda\n",
    "- Terlihat bahwa jumlah peminjam lebih tinggi di kelompok usia muda, khususnya antara 20 hingga 25 tahun. Ini menunjukkan bahwa usia muda lebih aktif dalam mengajukan pinjaman.\n",
    "2. Tren Penurunan\n",
    "- Setelah mencapai puncak pada usia 25-29 tahun, ada tren penurunan yang jelas dalam jumlah peminjam, terutama di usia yang lebih tua.\n",
    "3. Perbandingan Status Pinjaman\n",
    "- Batang hijau (disetujui) sering kali lebih dominan dibandingkan batang oranye (ditolak) pada kelompok usia yang lebih muda. \n",
    "- Ini mungkin menunjukkan bahwa peminjam muda lebih sering mendapatkan persetujuan dibandingkan dengan peminjam yang lebih tua."
   ]
  },
  {
   "cell_type": "markdown",
   "id": "6119ac22",
   "metadata": {
    "slideshow": {
     "slide_type": "slide"
    }
   },
   "source": [
    "# b. Distribusi Data Feature/Input Person_Income (Pendapatan Peminjam)"
   ]
  },
  {
   "cell_type": "code",
   "execution_count": 41,
   "id": "cf9dcbf7",
   "metadata": {},
   "outputs": [
    {
     "data": {
      "image/png": "[encoded data removed]",
      "text/plain": [
       "<Figure size 1200x600 with 1 Axes>"
      ]
     },
     "metadata": {},
     "output_type": "display_data"
    }
   ],
   "source": [
    "import matplotlib.pyplot as plt  \n",
    "import seaborn as sns  \n",
    "\n",
    "# Mengatur ukuran gambar  \n",
    "plt.figure(figsize=(12, 6))  \n",
    "plt.grid()\n",
    "# Membuat violin plot untuk distribusi pendapatan  \n",
    "sns.violinplot(x=data['person_income'], color='lightgreen')  \n",
    "\n",
    "# Menambahkan label dan judul  \n",
    "plt.xlabel('Pendapatan Peminjam', fontsize=12)  \n",
    "plt.title('Distribusi Pendapatan Peminjam dengan Violin Plot', fontsize=14)  \n",
    "\n",
    "# Tampilkan plot  \n",
    "plt.savefig('./grafik/income.png')\n",
    "plt.show()"
   ]
  },
  {
   "cell_type": "markdown",
   "id": "834d15f5",
   "metadata": {},
   "source": [
    "#### Pada grafik Violin plot mencerminkan distribusi data, di mana bagian yang lebih lebar menunjukkan kepadatan data yang lebih tinggi, puncak kepadatan berada pada rentang nilai pendapatan 40.000-60.0000 USD yang berarti bahwa banyak peminjam memiliki pendapatan di area tersebut."
   ]
  },
  {
   "cell_type": "markdown",
   "id": "d3db8f6e",
   "metadata": {},
   "source": [
    "# Distribusi person_income(Pendapatan Peminjam) terhadap loan_status (Status Pinjaman)"
   ]
  },
  {
   "cell_type": "code",
   "execution_count": 42,
   "id": "341e7e2f",
   "metadata": {
    "scrolled": false
   },
   "outputs": [
    {
     "data": {
      "image/png": "[encoded data removed]",
      "text/plain": [
       "<Figure size 1200x600 with 1 Axes>"
      ]
     },
     "metadata": {},
     "output_type": "display_data"
    }
   ],
   "source": [
    "import matplotlib.pyplot as plt  \n",
    "import seaborn as sns  \n",
    "import matplotlib.ticker as mtick  \n",
    "\n",
    "# Mengatur ukuran gambar  \n",
    "plt.figure(figsize=(12, 6))  \n",
    "\n",
    "# Menghitung frekuensi total  \n",
    "total_count = data['person_income'].count()  \n",
    "\n",
    "# Membuat histogram dengan seaborn  \n",
    "ax = sns.histplot(data=data, x='person_income', hue='loan_status', bins=15, kde=True, stat=\"count\", palette='Set2')  \n",
    "\n",
    "# Menambahkan label dan judul  \n",
    "plt.ylabel('% Income Peminjam', fontsize=12)  \n",
    "plt.xlabel('Income Peminjam', fontsize=12)  \n",
    "plt.title('Distribusi Income Peminjam Berdasarkan Status Pinjaman', fontsize=14)  \n",
    "plt.grid()\n",
    "# Mengatur format sumbu y untuk persentase  \n",
    "plt.gca().yaxis.set_major_formatter(mtick.PercentFormatter(xmax=total_count))  \n",
    "\n",
    "# Menambahkan angka di atas setiap batang (jumlah data)  \n",
    "for p in ax.patches:  \n",
    "    height = p.get_height()  \n",
    "    if height > 0:  # Hanya menampilkan label jika ada data  \n",
    "        ax.annotate(f'{int(height)}',  # Menampilkan jumlah data  \n",
    "                    (p.get_x() + p.get_width() / 2, height),  # Posisi teks  \n",
    "                    ha='center', va='bottom', fontsize=10, color='black', fontweight='bold')  \n",
    "\n",
    "# Menampilkan plot  \n",
    "plt.savefig('./grafik/income-statuspinjaman.png')\n",
    "plt.show()"
   ]
  },
  {
   "cell_type": "markdown",
   "id": "7089e256",
   "metadata": {},
   "source": [
    "### Interpretasi Data\n",
    "- Grafik ini membantu dalam memahami bagaimana distribusi income peminjam berkaitan dengan status pinjaman, grafik ini memberikan wawasan yang berguna untuk analisis mengenai pengaruh pendapatan terhadap akses ke pinjaman\n",
    "- Dapat dilihat bahwa kelompok yang memiliki lebih banyak peminjam pada rentang pendapatan antara 40.000 hingga 60.000.\n",
    "- rentang nilai pendapatan 42.000-47.000 merupakan kelompok yang paling banyak peminjam dengan 3624 data(12%) memiliki status kredit lancar/lunas dan 942(3%) data memiliki status kredit macet/bermasalah"
   ]
  },
  {
   "cell_type": "markdown",
   "id": "872356bf",
   "metadata": {},
   "source": [
    "# c. Distribusi data person_home_ownership (Status Kepemilikan Rumah)"
   ]
  },
  {
   "cell_type": "code",
   "execution_count": 43,
   "id": "37e77542",
   "metadata": {},
   "outputs": [
    {
     "data": {
      "image/png": "[encoded data removed]",
      "text/plain": [
       "<Figure size 500x500 with 1 Axes>"
      ]
     },
     "metadata": {},
     "output_type": "display_data"
    }
   ],
   "source": [
    "# Fungsi untuk menampilkan jumlah dan persentase  \n",
    "def func(pct, allvalues):  \n",
    "    absolute = int(np.round(pct / 100. * sum(allvalues)))  # Menghitung jumlah data  \n",
    "    return f'{absolute} \\n({pct:.1f}%)'  # Format tampilan  \n",
    "\n",
    "# Hitung frekuensi status pinjaman  \n",
    "loan_counts = data['person_home_ownership'].value_counts()  \n",
    "\n",
    "# Buat diagram pie  \n",
    "ax = loan_counts.plot.pie(autopct=lambda pct: func(pct, loan_counts), \n",
    "                          labels=['0= MORTGAGE(MASIH KREDIT)','1=OTHER(LAINNYA)',\n",
    "                                  '2=OWN(MILIK SENDIRI)','3=RENT(SEWA)'], \n",
    "                          figsize=(5, 5), fontsize=8)  \n",
    "\n",
    "ax.yaxis.set_major_formatter(mtick.PercentFormatter())  \n",
    "ax.set_ylabel('person_home_ownership', fontsize=12)  \n",
    "ax.set_title('% person_home_ownership', fontsize=12)  \n",
    "plt.savefig('./grafik/statusRumah.png')\n",
    "plt.show()  # Tampilkan plot"
   ]
  },
  {
   "cell_type": "markdown",
   "id": "b4734366",
   "metadata": {},
   "source": [
    "# Pada Grafik diatas dapat dijelaskan bahwa:\n",
    "1. Terdapat 15709 data(51,8%)peminjam/nasabah dengan status kepemilikan rumah MORTGAGE/masih kredit\n",
    "2. Terdapat 12232 data(40,3%)peminjam/nasabah dengan status kepemilikan rumah OTHER/lainnya seperti (milik keluarga,dll)\n",
    "3. Terdapat 2305 data(7,6%)peminjam/nasabah dengan status kepemilikan rumah OWN/milik sendiri\n",
    "4. Terdapat 99 data(0,3%)peminjam/nasabah dengan status kepemilikan rumah RENT/sewa"
   ]
  },
  {
   "cell_type": "markdown",
   "id": "9c2134aa",
   "metadata": {},
   "source": [
    "# Distribusi person_home_ownership(kepemilikan rumah Peminjam) terhadap loan_status (Status Pinjaman)"
   ]
  },
  {
   "cell_type": "code",
   "execution_count": 44,
   "id": "8f9eb334",
   "metadata": {},
   "outputs": [
    {
     "data": {
      "image/png": "[encoded data removed]",
      "text/plain": [
       "<Figure size 1000x500 with 1 Axes>"
      ]
     },
     "metadata": {},
     "output_type": "display_data"
    }
   ],
   "source": [
    "plt.figure(figsize=(10, 5))\n",
    "ax = sns.countplot(data=data, x='person_home_ownership', hue='loan_status', palette='Set2')\n",
    "\n",
    "# Menambahkan label jumlah data pada setiap batang\n",
    "for container in ax.containers:\n",
    "    ax.bar_label(container, fmt='%d', fontsize=8, padding=3)\n",
    "\n",
    "plt.ylabel('Jumlah Peminjam', fontsize=12)\n",
    "plt.xlabel('status kepemilikan rumah', fontsize=12)\n",
    "plt.title('Distribusi status kepemilikan rumah terhadap Status Pinjaman', fontsize=14)\n",
    "\n",
    "plt.xticks(rotation=45)\n",
    "plt.grid()\n",
    "plt.legend(title='Status Pinjaman')\n",
    "plt.savefig('./grafik/statusRumah-statuspinjaman.png')\n",
    "plt.show()\n"
   ]
  },
  {
   "cell_type": "markdown",
   "id": "7b0e1490",
   "metadata": {},
   "source": [
    "# Pada Grafik diatas dapat dijelaskan bahwa:\n",
    "1. Dari 15709 datapeminjam/nasabah dengan status kepemilikan rumah MORTGAGE/masih kredit, sebanyak 10682 memiliki status kredit lancar dan sebanyak 1550 memiliki status kredit macet\n",
    "2. Dari 12232 data(40,3%)peminjam/nasabah dengan status kepemilikan rumah OTHER/lainnya seperti (milik keluarga,dll), sebanyak 10776 memiliki status kredit lancar dan sebanyak 4933 memiliki status kredit macet\n",
    "3. Dari 2305 data(7,6%)peminjam/nasabah dengan status kepemilikan rumah OWN/milik sendiri, sebanyak 2140 memiliki status kredit lancar dan sebanyak 165 memiliki status kredit macet\n",
    "4. Dari 99 data(0,3%)peminjam/nasabah dengan status kepemilikan rumah RENT/sewa, sebanyak 67 memiliki status kredit lancar dan sebanyak 32 memiliki status kredit macet"
   ]
  },
  {
   "cell_type": "markdown",
   "id": "b5e5abaa",
   "metadata": {},
   "source": [
    "# d. Distribusi person_emp_length (Lama Bekerja Pemohon)"
   ]
  },
  {
   "cell_type": "code",
   "execution_count": 45,
   "id": "35702062",
   "metadata": {},
   "outputs": [
    {
     "data": {
      "image/png": "[encoded data removed]",
      "text/plain": [
       "<Figure size 1000x600 with 1 Axes>"
      ]
     },
     "metadata": {},
     "output_type": "display_data"
    }
   ],
   "source": [
    "# Mengatur ukuran gambar  \n",
    "plt.figure(figsize=(10, 6))  \n",
    "\n",
    "# Menghitung jumlah peminjam untuk histogram  \n",
    "sns.histplot(data['person_emp_length'], bins=15, kde=True, color='cyan', stat=\"percent\")  \n",
    "\n",
    "# Menambahkan label dan judul  \n",
    "plt.ylabel('% Lama Bekerja', fontsize=12)  \n",
    "plt.xlabel('Lama Bekerja', fontsize=12)  \n",
    "plt.title('Distribusi Lama Bekerja Peminjam', fontsize=14)  \n",
    "plt.grid()\n",
    "# Mengatur format sumbu y  \n",
    "plt.gca().yaxis.set_major_formatter(mtick.PercentFormatter())  \n",
    "\n",
    "# Mengumpulkan data plot untuk menambahkan jumlah di atas histogram  \n",
    "counts, bins = np.histogram(data['person_emp_length'], bins=14)  \n",
    "bin_centers = 0.5 * (bins[1:] + bins[:-1])  # Menghitung posisi untuk label  \n",
    "\n",
    "# Menambahkan label jumlah di atas batang  \n",
    "for count, center in zip(counts, bin_centers):  \n",
    "    plt.text(x=center, y=count / len(data) * 100,  # Menggunakan persentase untuk posisi  \n",
    "             s=f'{count}', ha='center', va='bottom', fontsize=10)  \n",
    "plt.savefig('./grafik/lamakerja.png')\n",
    "# Tampilkan plot  \n",
    "plt.show()"
   ]
  },
  {
   "cell_type": "markdown",
   "id": "1a7209f3",
   "metadata": {},
   "source": [
    "### Berdasakan grafik diatas:\n",
    "1. Histogram menunjukkan bahwa kelompok lama bekerja 0-3 tahun memiliki jumlah peminjam tertinggi dengan persentase sekitar 34,5% atau sebanyak 10.494 peminjam.\n",
    "2. Terdapat penurunan signifikan dalam jumlah peminjam saat lama bekerja semakin lama, setiap kelompok lama bekerja setelah 0-3 tahun menunjukkan penurunan yang konsisten.\n",
    "3. lama bekerja 3 sampai dengan 9 tahun juga memiliki angka yang cukup tinggi, tetapi jauh di bawah kelompok lama bekerja 3 tahun.\n",
    "4. lama bekerja 25 dan lebih tinggi (25-35 tahun) menunjukkan penurunan drastis dalam jumlah peminjam, dengan angka di bawah 15, ini menunjukkan bahwa peminjam yang telah lama bekerja (di atas 25 tahun) cenderung lebih sedikit mengambil pinjaman dibandingkan peminjam yang baru mulai bekerja.\n",
    "#### Histogram ini mencerminkan bahwa peminjam cenderung berasal dari orang yang belum lama bekerja, dengan puncak yang signifikan pada lama bekerja 0-3 tahun."
   ]
  },
  {
   "cell_type": "markdown",
   "id": "43a95db7",
   "metadata": {},
   "source": [
    "# Distribusi person_emp_length(Lama Bekerja Peminjam) terhadap loan_status (Status Pinjaman)"
   ]
  },
  {
   "cell_type": "code",
   "execution_count": 46,
   "id": "5459cb1e",
   "metadata": {
    "scrolled": false
   },
   "outputs": [
    {
     "data": {
      "image/png": "[encoded data removed]",
      "text/plain": [
       "<Figure size 1200x600 with 1 Axes>"
      ]
     },
     "metadata": {},
     "output_type": "display_data"
    }
   ],
   "source": [
    "# Mengatur ukuran gambar  \n",
    "plt.figure(figsize=(12, 6))  \n",
    "\n",
    "# Menghitung frekuensi total  \n",
    "total_count = data['person_emp_length'].count()  \n",
    "\n",
    "# Membuat histogram dengan seaborn  \n",
    "ax = sns.histplot(data=data, x='person_emp_length', hue='loan_status', bins=15, kde=True, stat=\"count\", palette='Set2')  \n",
    "\n",
    "# Menambahkan label dan judul  \n",
    "plt.ylabel('% Lama Bekerja Peminjam', fontsize=12)  \n",
    "plt.xlabel('Lama Bekerja Peminjam', fontsize=12)  \n",
    "plt.title('Distribusi Lama Bekerja Terhadap Status Pinjaman', fontsize=14)  \n",
    "plt.grid()\n",
    "# Mengatur format sumbu y untuk persentase  \n",
    "plt.gca().yaxis.set_major_formatter(mtick.PercentFormatter(xmax=total_count))  \n",
    "\n",
    "# Menambahkan angka di atas setiap batang (jumlah data)  \n",
    "for p in ax.patches:  \n",
    "    height = p.get_height()  \n",
    "    if height > 0:  # Hanya menampilkan label jika ada data  \n",
    "        ax.annotate(f'{int(height)}',  # Menampilkan jumlah data  \n",
    "                    (p.get_x() + p.get_width() / 2, height),  # Posisi teks  \n",
    "                    ha='center', va='bottom', fontsize=10, color='black', fontweight='bold')  \n",
    "plt.savefig('./grafik/lamakerja-statuspinjaman.png')\n",
    "# Menampilkan plot  \n",
    "plt.show()"
   ]
  },
  {
   "cell_type": "markdown",
   "id": "e13ee979",
   "metadata": {},
   "source": [
    "### Interpretasi Distribusi Data Lama Bekerja\n",
    "- Grafik ini membantu dalam memahami bagaimana distribusi lama bekerja peminjam berkaitan dengan status pinjaman, grafik ini memberikan wawasan yang berguna untuk analisis mengenai pengaruh Lama Bekerja terhadap akses ke pinjaman\n",
    "- Dapat dilihat bahwa kelompok yang memiliki lebih banyak peminjam pada rentang pendapatan antara 40.000 hingga 60.000.\n",
    "- rentang nilai lama bekerja 0-3 tahun merupakan kelompok yang paling banyak peminjam dengan 7597 data(25,1%) memiliki status kredit lancar/lunas dan 2897(9,4%) data memiliki status kredit macet/bermasalah"
   ]
  },
  {
   "cell_type": "markdown",
   "id": "859deb66",
   "metadata": {},
   "source": [
    "# e.loan_intent (Tujuan Pinjaman)\n",
    "- Memiliki 32,581 baris data dengan tipe data object (kategorikal).\n",
    "- Menunjukkan tujuan dari pinjaman (seperti pembiayaan pendidikan, membeli rumah, dsb.)"
   ]
  },
  {
   "cell_type": "code",
   "execution_count": 47,
   "id": "1baf7636",
   "metadata": {
    "scrolled": false
   },
   "outputs": [
    {
     "data": {
      "image/png": "[encoded data removed]",
      "text/plain": [
       "<Figure size 800x1600 with 1 Axes>"
      ]
     },
     "metadata": {},
     "output_type": "display_data"
    }
   ],
   "source": [
    "# Fungsi untuk menampilkan jumlah dan persentase  \n",
    "def func(pct, allvalues):  \n",
    "    absolute = int(np.round(pct / 100. * sum(allvalues)))  # Menghitung jumlah data  \n",
    "    return f'{absolute} \\n({pct:.1f}%)'  # Format tampilan  \n",
    "\n",
    "# Hitung frekuensi status pinjaman  \n",
    "loan_counts = data['loan_intent'].value_counts()  \n",
    "\n",
    "# Buat diagram pie  \n",
    "ax = loan_counts.plot.pie(autopct=lambda pct: func(pct, loan_counts), \n",
    "                          labels=['1 = EDUCATION','3 = MEDICAL','5 = VENTURE','4 = PERSONAL',\n",
    "                                  '2 = HOMEIMPROVEMENT','0 = DEBTCONSOLIDATION'],\n",
    "                          figsize=(8, 16), fontsize=8)  \n",
    "\n",
    "ax.yaxis.set_major_formatter(mtick.PercentFormatter())  \n",
    "ax.set_ylabel('Tujuan Pinjaman', fontsize=12)  \n",
    "ax.set_title('% Tujuan Pinjaman', fontsize=12)  \n",
    "plt.savefig('./grafik/tujuanpinjaman.png')\n",
    "plt.show()  # Tampilkan plot"
   ]
  },
  {
   "cell_type": "markdown",
   "id": "ef381fed",
   "metadata": {},
   "source": [
    "# Pada Grafik diatas dapat dijelaskan bahwa:\n",
    "1. Terdapat 6048 data(19,9%)peminjam/nasabah dengan tujuan Pinjaman EDUCATION/PENDIDIKAN\n",
    "2. Terdapat 5680 data(18,7%)peminjam/nasabah dengan tujuan Pinjaman MEDICAL/PENGOBATAN\n",
    "3. Terdapat 5309 data(17,5%)peminjam/nasabah dengan tujuan pinjaman VENTURE\n",
    "4. Terdapat 5126 data(16,9%)peminjam/nasabah dengan tujuan pinjaman PERSONAL/KEBUTUHAN PRIBADI\n",
    "5. Terdapat 4849 data(16%)peminjam/nasabah dengan tujuan pinjaman HOME IMPROVEMENT\n",
    "6. Terdapat 3333 data(11%)peminjam/nasabah dengan tujuan pinjaman DEBT CONSOLIDATION"
   ]
  },
  {
   "cell_type": "code",
   "execution_count": null,
   "id": "d2ec4f8d",
   "metadata": {},
   "outputs": [],
   "source": []
  },
  {
   "cell_type": "markdown",
   "id": "577d5669",
   "metadata": {},
   "source": [
    "# Distribusi loan_intent(tujuan Pinjaman) terhadap loan_status (Status Pinjaman)"
   ]
  },
  {
   "cell_type": "code",
   "execution_count": 48,
   "id": "971059e0",
   "metadata": {
    "scrolled": false
   },
   "outputs": [
    {
     "data": {
      "image/png": "[encoded data removed]",
      "text/plain": [
       "<Figure size 1000x500 with 1 Axes>"
      ]
     },
     "metadata": {},
     "output_type": "display_data"
    }
   ],
   "source": [
    "plt.figure(figsize=(10, 5))\n",
    "ax = sns.countplot(data=data, x='loan_intent', hue='loan_status', palette='Set2')\n",
    "\n",
    "# Menambahkan label jumlah data pada setiap batang\n",
    "for container in ax.containers:\n",
    "    ax.bar_label(container, fmt='%d', fontsize=8, padding=3)\n",
    "\n",
    "plt.ylabel('Jumlah Peminjam', fontsize=12)\n",
    "plt.xlabel('Tujuan Pinjaman', fontsize=12)\n",
    "plt.title('Distribusi Tujuan Pinjaman terhadap Status Pinjaman', fontsize=14)\n",
    "\n",
    "plt.xticks(rotation=45)\n",
    "plt.grid()\n",
    "plt.legend(title='Status Pinjaman')\n",
    "plt.savefig('./grafik/tujuanpinjaman-statuspinjaman.png')\n",
    "plt.show()\n"
   ]
  },
  {
   "cell_type": "markdown",
   "id": "43f8cef1",
   "metadata": {},
   "source": [
    "# Pada Grafik diatas dapat dijelaskan bahwa:\n",
    "1. Terdapat 6048 data(19,9%)peminjam/nasabah dengan tujuan Pinjaman EDUCATION/PENDIDIKAN, 5004 nasabah memiliki status kredit lancar dan 1044 nasabah memiliki status kredit macet\n",
    "2. Terdapat 5680 data(18,7%)peminjam/nasabah dengan tujuan Pinjaman MEDICAL/PENGOBATAN, 4505 nasabah memiliki status kredit lancar dan 804 nasabah memiliki status kredit macet\n",
    "3. Terdapat 5309 data(17,5%)peminjam/nasabah dengan tujuan pinjaman VENTURE, 4152 nasabah memiliki status kredit lancar dan 1528 nasabah memiliki status kredit macet\n",
    "4. Terdapat 5126 data(16,9%)peminjam/nasabah dengan tujuan pinjaman PERSONAL/KEBUTUHAN PRIBADI, 4096 nasabah memiliki status kredit lancar dan 1030 nasabah memiliki status kredit macet\n",
    "5. Terdapat 4849 data(16%)peminjam/nasabah dengan tujuan pinjaman HOME IMPROVEMENT, 3456 nasabah memiliki status kredit lancar dan 1393 nasabah memiliki status kredit macet\n",
    "6. Terdapat 3333 data(11%)peminjam/nasabah dengan tujuan pinjaman DEBT CONSOLIDATION, 2452 nasabah memiliki status kredit lancar dan 881 nasabah memiliki status kredit macet"
   ]
  },
  {
   "cell_type": "markdown",
   "id": "d949d757",
   "metadata": {},
   "source": [
    "# LANJUTKAN UNtUK VISUALISASI DATA SETIAP KOLOM YANG LAINNYA"
   ]
  },
  {
   "cell_type": "code",
   "execution_count": null,
   "id": "3ab117fd",
   "metadata": {},
   "outputs": [],
   "source": []
  },
  {
   "cell_type": "markdown",
   "id": "c7a24e27",
   "metadata": {},
   "source": [
    "# NOTED\n",
    "#### TAHAP ANALISA DATA BERTUJUAN UNTUK MENGIDENTIFIKASI DAN MENGENALI DATASET TERKAIT DENGAN INFORMASI DETAIL (DIMENSI DATA, STRUKTUR DATA. DLL) PADA KOLOM FEATURE/INPUT DAN JUGA KOLOM CLASS/OUTPUT, SERTA UNTUK MENGETAHUI KORELASI/HUBUNGAN ATAUPUN PENGARUH KOLOM FEATURE/INPUT TERHADAP KOLOM CLASS/OUTPUT\n",
    "#### TAHAP VISUALISASI DATA BERTUJUAN UNTUK MELAKUKAN VISUALISASI/PENGGAMBARAN DATA DALAM BENTUK VISUAL TERKAIT DENGAN DISTRIBUSI/SEBARAN DATA, SEHINGGA DIDAPATKAN INFORMASI SECARA KOMPEREHENSIP TENTANG DATA\n",
    "#### TAHAP CLEANING/PEMBERSIHAN DATA BERTUJUAN UNTUK MEMBERSIHKAN DATA DARI DATA YANG BERSIFAT MISSING VALUE (DATA YANG KEHILANGAN NILAI), DATA OUTLIER (DATA TIDAK LAZIM) DAN DATA DUPLIKAT (DATA YANG RANGKAP/GANDA)\n",
    "#### TAHAP TRANSFORMATION(ENCODING)/PERUBAHAN DATA BERTUJUAN UNTUK MENGUBAH BENTUK DATA YANG BERTIPE OBJECT (KATEGORIKAL) KEDALAM BENTUK NUMERIK SEHINGGA DAPAT MEMUDAHKAN DALAM MEMBANGUN MODEL MESIN LEARNING\n",
    "## SETELAH SEMUA TAHAP SELESAI DATASET AWAL YANG TELAH DIBERSIHKAN DIBAGI MENJADI 2 BAGIAN\n",
    "## 1. 25 % DATA EVALUASI (DATA YANG AKAN DIGUNAKAN SEBAGAI DATA BARU UNTUK MELAKUKAN EVALUASI & PENGUJIAN ULANG MODEL MESIN LEARNING)\n",
    "## 2. 75% DATA LATIH (DATA YANG AKAN DIGUNAKAN UNTUK MEMBANGUN MODEL MESIN LEARNING)"
   ]
  },
  {
   "cell_type": "code",
   "execution_count": 49,
   "id": "e881271a",
   "metadata": {},
   "outputs": [
    {
     "name": "stdout",
     "output_type": "stream",
     "text": [
      "Ukuran Data Evaluasi: (7586, 12)\n",
      "Ukuran Data Training: (22759, 12)\n"
     ]
    }
   ],
   "source": [
    "#impor modul\n",
    "from sklearn.model_selection import train_test_split\n",
    "# Memecah data menjadi 25% untuk evaluasi dan 75% untuk training dan testing  \n",
    "data_eval, data_latih= train_test_split(data, test_size=0.75, random_state=42)  \n",
    "# Menampilkan ukuran masing-masing subset  \n",
    "print(f'Ukuran Data Evaluasi: {data_eval.shape}')  \n",
    "print(f'Ukuran Data Training: {data_latih.shape}')"
   ]
  },
  {
   "cell_type": "code",
   "execution_count": 50,
   "id": "9796d8bb",
   "metadata": {},
   "outputs": [],
   "source": [
    "# menyimpan data\n",
    "data_eval.to_csv('.\\simpandata\\data_evaluasi.csv',index=False)\n",
    "data_latih.to_csv('.\\simpandata\\data_latih.csv',index=False)"
   ]
  },
  {
   "cell_type": "code",
   "execution_count": null,
   "id": "f2937e57",
   "metadata": {},
   "outputs": [],
   "source": []
  }
 ],
 "metadata": {
  "kernelspec": {
   "display_name": "Python 3 (ipykernel)",
   "language": "python",
   "name": "python3"
  },
  "language_info": {
   "codemirror_mode": {
    "name": "ipython",
    "version": 3
   },
   "file_extension": ".py",
   "mimetype": "text/x-python",
   "name": "python",
   "nbconvert_exporter": "python",
   "pygments_lexer": "ipython3",
   "version": "3.10.9"
  }
 },
 "nbformat": 4,
 "nbformat_minor": 5
}
